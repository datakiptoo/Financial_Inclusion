{
 "cells": [
  {
   "cell_type": "code",
   "execution_count": 1,
   "metadata": {},
   "outputs": [],
   "source": [
    "import pandas as pd\n",
    "import numpy as np\n",
    "import matplotlib.pyplot as plt"
   ]
  },
  {
   "cell_type": "code",
   "execution_count": 2,
   "metadata": {},
   "outputs": [
    {
     "data": {
      "text/html": [
       "<div>\n",
       "<style scoped>\n",
       "    .dataframe tbody tr th:only-of-type {\n",
       "        vertical-align: middle;\n",
       "    }\n",
       "\n",
       "    .dataframe tbody tr th {\n",
       "        vertical-align: top;\n",
       "    }\n",
       "\n",
       "    .dataframe thead th {\n",
       "        text-align: right;\n",
       "    }\n",
       "</style>\n",
       "<table border=\"1\" class=\"dataframe\">\n",
       "  <thead>\n",
       "    <tr style=\"text-align: right;\">\n",
       "      <th></th>\n",
       "      <th>country</th>\n",
       "      <th>year</th>\n",
       "      <th>uniqueid</th>\n",
       "      <th>bank_account</th>\n",
       "      <th>location_type</th>\n",
       "      <th>cellphone_access</th>\n",
       "      <th>household_size</th>\n",
       "      <th>age_of_respondent</th>\n",
       "      <th>gender_of_respondent</th>\n",
       "      <th>relationship_with_head</th>\n",
       "      <th>marital_status</th>\n",
       "      <th>education_level</th>\n",
       "      <th>job_type</th>\n",
       "    </tr>\n",
       "  </thead>\n",
       "  <tbody>\n",
       "    <tr>\n",
       "      <th>0</th>\n",
       "      <td>Kenya</td>\n",
       "      <td>2018</td>\n",
       "      <td>uniqueid_1</td>\n",
       "      <td>Yes</td>\n",
       "      <td>Rural</td>\n",
       "      <td>Yes</td>\n",
       "      <td>3</td>\n",
       "      <td>24</td>\n",
       "      <td>Female</td>\n",
       "      <td>Spouse</td>\n",
       "      <td>Married/Living together</td>\n",
       "      <td>Secondary education</td>\n",
       "      <td>Self employed</td>\n",
       "    </tr>\n",
       "    <tr>\n",
       "      <th>1</th>\n",
       "      <td>Kenya</td>\n",
       "      <td>2018</td>\n",
       "      <td>uniqueid_2</td>\n",
       "      <td>No</td>\n",
       "      <td>Rural</td>\n",
       "      <td>No</td>\n",
       "      <td>5</td>\n",
       "      <td>70</td>\n",
       "      <td>Female</td>\n",
       "      <td>Head of Household</td>\n",
       "      <td>Widowed</td>\n",
       "      <td>No formal education</td>\n",
       "      <td>Government Dependent</td>\n",
       "    </tr>\n",
       "    <tr>\n",
       "      <th>2</th>\n",
       "      <td>Kenya</td>\n",
       "      <td>2018</td>\n",
       "      <td>uniqueid_3</td>\n",
       "      <td>Yes</td>\n",
       "      <td>Urban</td>\n",
       "      <td>Yes</td>\n",
       "      <td>5</td>\n",
       "      <td>26</td>\n",
       "      <td>Male</td>\n",
       "      <td>Other relative</td>\n",
       "      <td>Single/Never Married</td>\n",
       "      <td>Vocational/Specialised training</td>\n",
       "      <td>Self employed</td>\n",
       "    </tr>\n",
       "    <tr>\n",
       "      <th>3</th>\n",
       "      <td>Kenya</td>\n",
       "      <td>2018</td>\n",
       "      <td>uniqueid_4</td>\n",
       "      <td>No</td>\n",
       "      <td>Rural</td>\n",
       "      <td>Yes</td>\n",
       "      <td>5</td>\n",
       "      <td>34</td>\n",
       "      <td>Female</td>\n",
       "      <td>Head of Household</td>\n",
       "      <td>Married/Living together</td>\n",
       "      <td>Primary education</td>\n",
       "      <td>Formally employed Private</td>\n",
       "    </tr>\n",
       "    <tr>\n",
       "      <th>4</th>\n",
       "      <td>Kenya</td>\n",
       "      <td>2018</td>\n",
       "      <td>uniqueid_5</td>\n",
       "      <td>No</td>\n",
       "      <td>Urban</td>\n",
       "      <td>No</td>\n",
       "      <td>8</td>\n",
       "      <td>26</td>\n",
       "      <td>Male</td>\n",
       "      <td>Child</td>\n",
       "      <td>Single/Never Married</td>\n",
       "      <td>Primary education</td>\n",
       "      <td>Informally employed</td>\n",
       "    </tr>\n",
       "    <tr>\n",
       "      <th>...</th>\n",
       "      <td>...</td>\n",
       "      <td>...</td>\n",
       "      <td>...</td>\n",
       "      <td>...</td>\n",
       "      <td>...</td>\n",
       "      <td>...</td>\n",
       "      <td>...</td>\n",
       "      <td>...</td>\n",
       "      <td>...</td>\n",
       "      <td>...</td>\n",
       "      <td>...</td>\n",
       "      <td>...</td>\n",
       "      <td>...</td>\n",
       "    </tr>\n",
       "    <tr>\n",
       "      <th>23519</th>\n",
       "      <td>Uganda</td>\n",
       "      <td>2018</td>\n",
       "      <td>uniqueid_2113</td>\n",
       "      <td>No</td>\n",
       "      <td>Rural</td>\n",
       "      <td>Yes</td>\n",
       "      <td>4</td>\n",
       "      <td>48</td>\n",
       "      <td>Female</td>\n",
       "      <td>Head of Household</td>\n",
       "      <td>Divorced/Seperated</td>\n",
       "      <td>No formal education</td>\n",
       "      <td>Other Income</td>\n",
       "    </tr>\n",
       "    <tr>\n",
       "      <th>23520</th>\n",
       "      <td>Uganda</td>\n",
       "      <td>2018</td>\n",
       "      <td>uniqueid_2114</td>\n",
       "      <td>No</td>\n",
       "      <td>Rural</td>\n",
       "      <td>Yes</td>\n",
       "      <td>2</td>\n",
       "      <td>27</td>\n",
       "      <td>Female</td>\n",
       "      <td>Head of Household</td>\n",
       "      <td>Single/Never Married</td>\n",
       "      <td>Secondary education</td>\n",
       "      <td>Other Income</td>\n",
       "    </tr>\n",
       "    <tr>\n",
       "      <th>23521</th>\n",
       "      <td>Uganda</td>\n",
       "      <td>2018</td>\n",
       "      <td>uniqueid_2115</td>\n",
       "      <td>No</td>\n",
       "      <td>Rural</td>\n",
       "      <td>Yes</td>\n",
       "      <td>5</td>\n",
       "      <td>27</td>\n",
       "      <td>Female</td>\n",
       "      <td>Parent</td>\n",
       "      <td>Widowed</td>\n",
       "      <td>Primary education</td>\n",
       "      <td>Other Income</td>\n",
       "    </tr>\n",
       "    <tr>\n",
       "      <th>23522</th>\n",
       "      <td>Uganda</td>\n",
       "      <td>2018</td>\n",
       "      <td>uniqueid_2116</td>\n",
       "      <td>No</td>\n",
       "      <td>Urban</td>\n",
       "      <td>Yes</td>\n",
       "      <td>7</td>\n",
       "      <td>30</td>\n",
       "      <td>Female</td>\n",
       "      <td>Parent</td>\n",
       "      <td>Divorced/Seperated</td>\n",
       "      <td>Secondary education</td>\n",
       "      <td>Self employed</td>\n",
       "    </tr>\n",
       "    <tr>\n",
       "      <th>23523</th>\n",
       "      <td>Uganda</td>\n",
       "      <td>2018</td>\n",
       "      <td>uniqueid_2117</td>\n",
       "      <td>No</td>\n",
       "      <td>Rural</td>\n",
       "      <td>Yes</td>\n",
       "      <td>10</td>\n",
       "      <td>20</td>\n",
       "      <td>Male</td>\n",
       "      <td>Child</td>\n",
       "      <td>Single/Never Married</td>\n",
       "      <td>Secondary education</td>\n",
       "      <td>No Income</td>\n",
       "    </tr>\n",
       "  </tbody>\n",
       "</table>\n",
       "<p>23524 rows × 13 columns</p>\n",
       "</div>"
      ],
      "text/plain": [
       "      country  year       uniqueid bank_account location_type  \\\n",
       "0       Kenya  2018     uniqueid_1          Yes         Rural   \n",
       "1       Kenya  2018     uniqueid_2           No         Rural   \n",
       "2       Kenya  2018     uniqueid_3          Yes         Urban   \n",
       "3       Kenya  2018     uniqueid_4           No         Rural   \n",
       "4       Kenya  2018     uniqueid_5           No         Urban   \n",
       "...       ...   ...            ...          ...           ...   \n",
       "23519  Uganda  2018  uniqueid_2113           No         Rural   \n",
       "23520  Uganda  2018  uniqueid_2114           No         Rural   \n",
       "23521  Uganda  2018  uniqueid_2115           No         Rural   \n",
       "23522  Uganda  2018  uniqueid_2116           No         Urban   \n",
       "23523  Uganda  2018  uniqueid_2117           No         Rural   \n",
       "\n",
       "      cellphone_access  household_size  age_of_respondent  \\\n",
       "0                  Yes               3                 24   \n",
       "1                   No               5                 70   \n",
       "2                  Yes               5                 26   \n",
       "3                  Yes               5                 34   \n",
       "4                   No               8                 26   \n",
       "...                ...             ...                ...   \n",
       "23519              Yes               4                 48   \n",
       "23520              Yes               2                 27   \n",
       "23521              Yes               5                 27   \n",
       "23522              Yes               7                 30   \n",
       "23523              Yes              10                 20   \n",
       "\n",
       "      gender_of_respondent relationship_with_head           marital_status  \\\n",
       "0                   Female                 Spouse  Married/Living together   \n",
       "1                   Female      Head of Household                  Widowed   \n",
       "2                     Male         Other relative     Single/Never Married   \n",
       "3                   Female      Head of Household  Married/Living together   \n",
       "4                     Male                  Child     Single/Never Married   \n",
       "...                    ...                    ...                      ...   \n",
       "23519               Female      Head of Household       Divorced/Seperated   \n",
       "23520               Female      Head of Household     Single/Never Married   \n",
       "23521               Female                 Parent                  Widowed   \n",
       "23522               Female                 Parent       Divorced/Seperated   \n",
       "23523                 Male                  Child     Single/Never Married   \n",
       "\n",
       "                       education_level                   job_type  \n",
       "0                  Secondary education              Self employed  \n",
       "1                  No formal education       Government Dependent  \n",
       "2      Vocational/Specialised training              Self employed  \n",
       "3                    Primary education  Formally employed Private  \n",
       "4                    Primary education        Informally employed  \n",
       "...                                ...                        ...  \n",
       "23519              No formal education               Other Income  \n",
       "23520              Secondary education               Other Income  \n",
       "23521                Primary education               Other Income  \n",
       "23522              Secondary education              Self employed  \n",
       "23523              Secondary education                  No Income  \n",
       "\n",
       "[23524 rows x 13 columns]"
      ]
     },
     "execution_count": 2,
     "metadata": {},
     "output_type": "execute_result"
    }
   ],
   "source": [
    "#read data\n",
    "data=pd.read_csv('Train.csv')\n",
    "data"
   ]
  },
  {
   "cell_type": "code",
   "execution_count": 3,
   "metadata": {},
   "outputs": [
    {
     "name": "stdout",
     "output_type": "stream",
     "text": [
      "<class 'pandas.core.frame.DataFrame'>\n",
      "RangeIndex: 23524 entries, 0 to 23523\n",
      "Data columns (total 13 columns):\n",
      " #   Column                  Non-Null Count  Dtype \n",
      "---  ------                  --------------  ----- \n",
      " 0   country                 23524 non-null  object\n",
      " 1   year                    23524 non-null  int64 \n",
      " 2   uniqueid                23524 non-null  object\n",
      " 3   bank_account            23524 non-null  object\n",
      " 4   location_type           23524 non-null  object\n",
      " 5   cellphone_access        23524 non-null  object\n",
      " 6   household_size          23524 non-null  int64 \n",
      " 7   age_of_respondent       23524 non-null  int64 \n",
      " 8   gender_of_respondent    23524 non-null  object\n",
      " 9   relationship_with_head  23524 non-null  object\n",
      " 10  marital_status          23524 non-null  object\n",
      " 11  education_level         23524 non-null  object\n",
      " 12  job_type                23524 non-null  object\n",
      "dtypes: int64(3), object(10)\n",
      "memory usage: 2.3+ MB\n"
     ]
    }
   ],
   "source": [
    "#info about dataset\n",
    "data.info()"
   ]
  },
  {
   "cell_type": "code",
   "execution_count": 4,
   "metadata": {},
   "outputs": [
    {
     "data": {
      "text/html": [
       "<div>\n",
       "<style scoped>\n",
       "    .dataframe tbody tr th:only-of-type {\n",
       "        vertical-align: middle;\n",
       "    }\n",
       "\n",
       "    .dataframe tbody tr th {\n",
       "        vertical-align: top;\n",
       "    }\n",
       "\n",
       "    .dataframe thead th {\n",
       "        text-align: right;\n",
       "    }\n",
       "</style>\n",
       "<table border=\"1\" class=\"dataframe\">\n",
       "  <thead>\n",
       "    <tr style=\"text-align: right;\">\n",
       "      <th></th>\n",
       "      <th>year</th>\n",
       "      <th>household_size</th>\n",
       "      <th>age_of_respondent</th>\n",
       "    </tr>\n",
       "  </thead>\n",
       "  <tbody>\n",
       "    <tr>\n",
       "      <th>count</th>\n",
       "      <td>23524.000000</td>\n",
       "      <td>23524.000000</td>\n",
       "      <td>23524.000000</td>\n",
       "    </tr>\n",
       "    <tr>\n",
       "      <th>mean</th>\n",
       "      <td>2016.975939</td>\n",
       "      <td>3.797483</td>\n",
       "      <td>38.805220</td>\n",
       "    </tr>\n",
       "    <tr>\n",
       "      <th>std</th>\n",
       "      <td>0.847371</td>\n",
       "      <td>2.227613</td>\n",
       "      <td>16.520569</td>\n",
       "    </tr>\n",
       "    <tr>\n",
       "      <th>min</th>\n",
       "      <td>2016.000000</td>\n",
       "      <td>1.000000</td>\n",
       "      <td>16.000000</td>\n",
       "    </tr>\n",
       "    <tr>\n",
       "      <th>25%</th>\n",
       "      <td>2016.000000</td>\n",
       "      <td>2.000000</td>\n",
       "      <td>26.000000</td>\n",
       "    </tr>\n",
       "    <tr>\n",
       "      <th>50%</th>\n",
       "      <td>2017.000000</td>\n",
       "      <td>3.000000</td>\n",
       "      <td>35.000000</td>\n",
       "    </tr>\n",
       "    <tr>\n",
       "      <th>75%</th>\n",
       "      <td>2018.000000</td>\n",
       "      <td>5.000000</td>\n",
       "      <td>49.000000</td>\n",
       "    </tr>\n",
       "    <tr>\n",
       "      <th>max</th>\n",
       "      <td>2018.000000</td>\n",
       "      <td>21.000000</td>\n",
       "      <td>100.000000</td>\n",
       "    </tr>\n",
       "  </tbody>\n",
       "</table>\n",
       "</div>"
      ],
      "text/plain": [
       "               year  household_size  age_of_respondent\n",
       "count  23524.000000    23524.000000       23524.000000\n",
       "mean    2016.975939        3.797483          38.805220\n",
       "std        0.847371        2.227613          16.520569\n",
       "min     2016.000000        1.000000          16.000000\n",
       "25%     2016.000000        2.000000          26.000000\n",
       "50%     2017.000000        3.000000          35.000000\n",
       "75%     2018.000000        5.000000          49.000000\n",
       "max     2018.000000       21.000000         100.000000"
      ]
     },
     "execution_count": 4,
     "metadata": {},
     "output_type": "execute_result"
    }
   ],
   "source": [
    "#statistics on dataset\n",
    "data.describe()"
   ]
  },
  {
   "cell_type": "code",
   "execution_count": 5,
   "metadata": {},
   "outputs": [],
   "source": [
    "#display all rows and columns\n",
    "pd.set_option('display.max_columns',13)\n",
    "pd.set_option('display.max_rows',13)"
   ]
  },
  {
   "cell_type": "code",
   "execution_count": 6,
   "metadata": {},
   "outputs": [
    {
     "data": {
      "text/html": [
       "<div>\n",
       "<style scoped>\n",
       "    .dataframe tbody tr th:only-of-type {\n",
       "        vertical-align: middle;\n",
       "    }\n",
       "\n",
       "    .dataframe tbody tr th {\n",
       "        vertical-align: top;\n",
       "    }\n",
       "\n",
       "    .dataframe thead th {\n",
       "        text-align: right;\n",
       "    }\n",
       "</style>\n",
       "<table border=\"1\" class=\"dataframe\">\n",
       "  <thead>\n",
       "    <tr style=\"text-align: right;\">\n",
       "      <th></th>\n",
       "      <th>country</th>\n",
       "      <th>year</th>\n",
       "      <th>uniqueid</th>\n",
       "      <th>bank_account</th>\n",
       "      <th>location_type</th>\n",
       "      <th>cellphone_access</th>\n",
       "      <th>household_size</th>\n",
       "      <th>age_of_respondent</th>\n",
       "      <th>gender_of_respondent</th>\n",
       "      <th>relationship_with_head</th>\n",
       "      <th>marital_status</th>\n",
       "      <th>education_level</th>\n",
       "      <th>job_type</th>\n",
       "    </tr>\n",
       "  </thead>\n",
       "  <tbody>\n",
       "    <tr>\n",
       "      <th>0</th>\n",
       "      <td>Kenya</td>\n",
       "      <td>2018</td>\n",
       "      <td>uniqueid_1</td>\n",
       "      <td>Yes</td>\n",
       "      <td>Rural</td>\n",
       "      <td>Yes</td>\n",
       "      <td>3</td>\n",
       "      <td>24</td>\n",
       "      <td>Female</td>\n",
       "      <td>Spouse</td>\n",
       "      <td>Married/Living together</td>\n",
       "      <td>Secondary education</td>\n",
       "      <td>Self employed</td>\n",
       "    </tr>\n",
       "    <tr>\n",
       "      <th>1</th>\n",
       "      <td>Kenya</td>\n",
       "      <td>2018</td>\n",
       "      <td>uniqueid_2</td>\n",
       "      <td>No</td>\n",
       "      <td>Rural</td>\n",
       "      <td>No</td>\n",
       "      <td>5</td>\n",
       "      <td>70</td>\n",
       "      <td>Female</td>\n",
       "      <td>Head of Household</td>\n",
       "      <td>Widowed</td>\n",
       "      <td>No formal education</td>\n",
       "      <td>Government Dependent</td>\n",
       "    </tr>\n",
       "    <tr>\n",
       "      <th>2</th>\n",
       "      <td>Kenya</td>\n",
       "      <td>2018</td>\n",
       "      <td>uniqueid_3</td>\n",
       "      <td>Yes</td>\n",
       "      <td>Urban</td>\n",
       "      <td>Yes</td>\n",
       "      <td>5</td>\n",
       "      <td>26</td>\n",
       "      <td>Male</td>\n",
       "      <td>Other relative</td>\n",
       "      <td>Single/Never Married</td>\n",
       "      <td>Vocational/Specialised training</td>\n",
       "      <td>Self employed</td>\n",
       "    </tr>\n",
       "    <tr>\n",
       "      <th>3</th>\n",
       "      <td>Kenya</td>\n",
       "      <td>2018</td>\n",
       "      <td>uniqueid_4</td>\n",
       "      <td>No</td>\n",
       "      <td>Rural</td>\n",
       "      <td>Yes</td>\n",
       "      <td>5</td>\n",
       "      <td>34</td>\n",
       "      <td>Female</td>\n",
       "      <td>Head of Household</td>\n",
       "      <td>Married/Living together</td>\n",
       "      <td>Primary education</td>\n",
       "      <td>Formally employed Private</td>\n",
       "    </tr>\n",
       "    <tr>\n",
       "      <th>4</th>\n",
       "      <td>Kenya</td>\n",
       "      <td>2018</td>\n",
       "      <td>uniqueid_5</td>\n",
       "      <td>No</td>\n",
       "      <td>Urban</td>\n",
       "      <td>No</td>\n",
       "      <td>8</td>\n",
       "      <td>26</td>\n",
       "      <td>Male</td>\n",
       "      <td>Child</td>\n",
       "      <td>Single/Never Married</td>\n",
       "      <td>Primary education</td>\n",
       "      <td>Informally employed</td>\n",
       "    </tr>\n",
       "    <tr>\n",
       "      <th>...</th>\n",
       "      <td>...</td>\n",
       "      <td>...</td>\n",
       "      <td>...</td>\n",
       "      <td>...</td>\n",
       "      <td>...</td>\n",
       "      <td>...</td>\n",
       "      <td>...</td>\n",
       "      <td>...</td>\n",
       "      <td>...</td>\n",
       "      <td>...</td>\n",
       "      <td>...</td>\n",
       "      <td>...</td>\n",
       "      <td>...</td>\n",
       "    </tr>\n",
       "    <tr>\n",
       "      <th>23519</th>\n",
       "      <td>Uganda</td>\n",
       "      <td>2018</td>\n",
       "      <td>uniqueid_2113</td>\n",
       "      <td>No</td>\n",
       "      <td>Rural</td>\n",
       "      <td>Yes</td>\n",
       "      <td>4</td>\n",
       "      <td>48</td>\n",
       "      <td>Female</td>\n",
       "      <td>Head of Household</td>\n",
       "      <td>Divorced/Seperated</td>\n",
       "      <td>No formal education</td>\n",
       "      <td>Other Income</td>\n",
       "    </tr>\n",
       "    <tr>\n",
       "      <th>23520</th>\n",
       "      <td>Uganda</td>\n",
       "      <td>2018</td>\n",
       "      <td>uniqueid_2114</td>\n",
       "      <td>No</td>\n",
       "      <td>Rural</td>\n",
       "      <td>Yes</td>\n",
       "      <td>2</td>\n",
       "      <td>27</td>\n",
       "      <td>Female</td>\n",
       "      <td>Head of Household</td>\n",
       "      <td>Single/Never Married</td>\n",
       "      <td>Secondary education</td>\n",
       "      <td>Other Income</td>\n",
       "    </tr>\n",
       "    <tr>\n",
       "      <th>23521</th>\n",
       "      <td>Uganda</td>\n",
       "      <td>2018</td>\n",
       "      <td>uniqueid_2115</td>\n",
       "      <td>No</td>\n",
       "      <td>Rural</td>\n",
       "      <td>Yes</td>\n",
       "      <td>5</td>\n",
       "      <td>27</td>\n",
       "      <td>Female</td>\n",
       "      <td>Parent</td>\n",
       "      <td>Widowed</td>\n",
       "      <td>Primary education</td>\n",
       "      <td>Other Income</td>\n",
       "    </tr>\n",
       "    <tr>\n",
       "      <th>23522</th>\n",
       "      <td>Uganda</td>\n",
       "      <td>2018</td>\n",
       "      <td>uniqueid_2116</td>\n",
       "      <td>No</td>\n",
       "      <td>Urban</td>\n",
       "      <td>Yes</td>\n",
       "      <td>7</td>\n",
       "      <td>30</td>\n",
       "      <td>Female</td>\n",
       "      <td>Parent</td>\n",
       "      <td>Divorced/Seperated</td>\n",
       "      <td>Secondary education</td>\n",
       "      <td>Self employed</td>\n",
       "    </tr>\n",
       "    <tr>\n",
       "      <th>23523</th>\n",
       "      <td>Uganda</td>\n",
       "      <td>2018</td>\n",
       "      <td>uniqueid_2117</td>\n",
       "      <td>No</td>\n",
       "      <td>Rural</td>\n",
       "      <td>Yes</td>\n",
       "      <td>10</td>\n",
       "      <td>20</td>\n",
       "      <td>Male</td>\n",
       "      <td>Child</td>\n",
       "      <td>Single/Never Married</td>\n",
       "      <td>Secondary education</td>\n",
       "      <td>No Income</td>\n",
       "    </tr>\n",
       "  </tbody>\n",
       "</table>\n",
       "<p>23524 rows × 13 columns</p>\n",
       "</div>"
      ],
      "text/plain": [
       "      country  year       uniqueid bank_account location_type  \\\n",
       "0       Kenya  2018     uniqueid_1          Yes         Rural   \n",
       "1       Kenya  2018     uniqueid_2           No         Rural   \n",
       "2       Kenya  2018     uniqueid_3          Yes         Urban   \n",
       "3       Kenya  2018     uniqueid_4           No         Rural   \n",
       "4       Kenya  2018     uniqueid_5           No         Urban   \n",
       "...       ...   ...            ...          ...           ...   \n",
       "23519  Uganda  2018  uniqueid_2113           No         Rural   \n",
       "23520  Uganda  2018  uniqueid_2114           No         Rural   \n",
       "23521  Uganda  2018  uniqueid_2115           No         Rural   \n",
       "23522  Uganda  2018  uniqueid_2116           No         Urban   \n",
       "23523  Uganda  2018  uniqueid_2117           No         Rural   \n",
       "\n",
       "      cellphone_access  household_size  age_of_respondent  \\\n",
       "0                  Yes               3                 24   \n",
       "1                   No               5                 70   \n",
       "2                  Yes               5                 26   \n",
       "3                  Yes               5                 34   \n",
       "4                   No               8                 26   \n",
       "...                ...             ...                ...   \n",
       "23519              Yes               4                 48   \n",
       "23520              Yes               2                 27   \n",
       "23521              Yes               5                 27   \n",
       "23522              Yes               7                 30   \n",
       "23523              Yes              10                 20   \n",
       "\n",
       "      gender_of_respondent relationship_with_head           marital_status  \\\n",
       "0                   Female                 Spouse  Married/Living together   \n",
       "1                   Female      Head of Household                  Widowed   \n",
       "2                     Male         Other relative     Single/Never Married   \n",
       "3                   Female      Head of Household  Married/Living together   \n",
       "4                     Male                  Child     Single/Never Married   \n",
       "...                    ...                    ...                      ...   \n",
       "23519               Female      Head of Household       Divorced/Seperated   \n",
       "23520               Female      Head of Household     Single/Never Married   \n",
       "23521               Female                 Parent                  Widowed   \n",
       "23522               Female                 Parent       Divorced/Seperated   \n",
       "23523                 Male                  Child     Single/Never Married   \n",
       "\n",
       "                       education_level                   job_type  \n",
       "0                  Secondary education              Self employed  \n",
       "1                  No formal education       Government Dependent  \n",
       "2      Vocational/Specialised training              Self employed  \n",
       "3                    Primary education  Formally employed Private  \n",
       "4                    Primary education        Informally employed  \n",
       "...                                ...                        ...  \n",
       "23519              No formal education               Other Income  \n",
       "23520              Secondary education               Other Income  \n",
       "23521                Primary education               Other Income  \n",
       "23522              Secondary education              Self employed  \n",
       "23523              Secondary education                  No Income  \n",
       "\n",
       "[23524 rows x 13 columns]"
      ]
     },
     "execution_count": 6,
     "metadata": {},
     "output_type": "execute_result"
    }
   ],
   "source": [
    "data"
   ]
  },
  {
   "cell_type": "code",
   "execution_count": 7,
   "metadata": {},
   "outputs": [],
   "source": [
    "data['iuniqueid']=data['uniqueid'] + 'x' + data['country']"
   ]
  },
  {
   "cell_type": "code",
   "execution_count": 8,
   "metadata": {},
   "outputs": [
    {
     "data": {
      "text/html": [
       "<div>\n",
       "<style scoped>\n",
       "    .dataframe tbody tr th:only-of-type {\n",
       "        vertical-align: middle;\n",
       "    }\n",
       "\n",
       "    .dataframe tbody tr th {\n",
       "        vertical-align: top;\n",
       "    }\n",
       "\n",
       "    .dataframe thead th {\n",
       "        text-align: right;\n",
       "    }\n",
       "</style>\n",
       "<table border=\"1\" class=\"dataframe\">\n",
       "  <thead>\n",
       "    <tr style=\"text-align: right;\">\n",
       "      <th></th>\n",
       "      <th>Variable Definitions</th>\n",
       "      <th>Unnamed: 1</th>\n",
       "    </tr>\n",
       "  </thead>\n",
       "  <tbody>\n",
       "    <tr>\n",
       "      <th>0</th>\n",
       "      <td>country</td>\n",
       "      <td>Country interviewee is in.</td>\n",
       "    </tr>\n",
       "    <tr>\n",
       "      <th>1</th>\n",
       "      <td>year</td>\n",
       "      <td>Year survey was done in.</td>\n",
       "    </tr>\n",
       "    <tr>\n",
       "      <th>2</th>\n",
       "      <td>uniqueid</td>\n",
       "      <td>Unique identifier for each interviewee</td>\n",
       "    </tr>\n",
       "    <tr>\n",
       "      <th>3</th>\n",
       "      <td>location_type</td>\n",
       "      <td>Type of location: Rural, Urban</td>\n",
       "    </tr>\n",
       "    <tr>\n",
       "      <th>4</th>\n",
       "      <td>cellphone_access</td>\n",
       "      <td>If interviewee has access to a cellphone: Yes, No</td>\n",
       "    </tr>\n",
       "    <tr>\n",
       "      <th>5</th>\n",
       "      <td>household_size</td>\n",
       "      <td>Number of people living in one house</td>\n",
       "    </tr>\n",
       "    <tr>\n",
       "      <th>6</th>\n",
       "      <td>age_of_respondent</td>\n",
       "      <td>The age of the interviewee</td>\n",
       "    </tr>\n",
       "    <tr>\n",
       "      <th>7</th>\n",
       "      <td>gender_of_respondent</td>\n",
       "      <td>Gender of interviewee: Male, Female</td>\n",
       "    </tr>\n",
       "    <tr>\n",
       "      <th>8</th>\n",
       "      <td>relationship_with_head</td>\n",
       "      <td>The interviewee’s relationship with the head o...</td>\n",
       "    </tr>\n",
       "    <tr>\n",
       "      <th>9</th>\n",
       "      <td>marital_status</td>\n",
       "      <td>The martial status of the interviewee: Married...</td>\n",
       "    </tr>\n",
       "    <tr>\n",
       "      <th>10</th>\n",
       "      <td>education_level</td>\n",
       "      <td>Highest level of education: No formal educatio...</td>\n",
       "    </tr>\n",
       "    <tr>\n",
       "      <th>11</th>\n",
       "      <td>job_type</td>\n",
       "      <td>Type of job interviewee has: Farming and Fishi...</td>\n",
       "    </tr>\n",
       "  </tbody>\n",
       "</table>\n",
       "</div>"
      ],
      "text/plain": [
       "      Variable Definitions                                         Unnamed: 1\n",
       "0                  country                         Country interviewee is in.\n",
       "1                     year                           Year survey was done in.\n",
       "2                 uniqueid             Unique identifier for each interviewee\n",
       "3            location_type                     Type of location: Rural, Urban\n",
       "4         cellphone_access  If interviewee has access to a cellphone: Yes, No\n",
       "5           household_size               Number of people living in one house\n",
       "6        age_of_respondent                         The age of the interviewee\n",
       "7     gender_of_respondent                Gender of interviewee: Male, Female\n",
       "8   relationship_with_head  The interviewee’s relationship with the head o...\n",
       "9           marital_status  The martial status of the interviewee: Married...\n",
       "10         education_level  Highest level of education: No formal educatio...\n",
       "11                job_type  Type of job interviewee has: Farming and Fishi..."
      ]
     },
     "execution_count": 8,
     "metadata": {},
     "output_type": "execute_result"
    }
   ],
   "source": [
    "#variable definitions\n",
    "column_definition=pd.read_csv('VariableDefinitions.csv')\n",
    "column_definition"
   ]
  },
  {
   "cell_type": "code",
   "execution_count": 9,
   "metadata": {},
   "outputs": [],
   "source": [
    "column_definition.set_index('Variable Definitions',inplace=True)"
   ]
  },
  {
   "cell_type": "code",
   "execution_count": 10,
   "metadata": {},
   "outputs": [
    {
     "data": {
      "text/plain": [
       "Index(['Unnamed: 1'], dtype='object')"
      ]
     },
     "execution_count": 10,
     "metadata": {},
     "output_type": "execute_result"
    }
   ],
   "source": [
    "column_definition.columns"
   ]
  },
  {
   "cell_type": "code",
   "execution_count": 11,
   "metadata": {},
   "outputs": [
    {
     "data": {
      "text/html": [
       "<div>\n",
       "<style scoped>\n",
       "    .dataframe tbody tr th:only-of-type {\n",
       "        vertical-align: middle;\n",
       "    }\n",
       "\n",
       "    .dataframe tbody tr th {\n",
       "        vertical-align: top;\n",
       "    }\n",
       "\n",
       "    .dataframe thead th {\n",
       "        text-align: right;\n",
       "    }\n",
       "</style>\n",
       "<table border=\"1\" class=\"dataframe\">\n",
       "  <thead>\n",
       "    <tr style=\"text-align: right;\">\n",
       "      <th></th>\n",
       "      <th>Unnamed: 1</th>\n",
       "    </tr>\n",
       "    <tr>\n",
       "      <th>Variable Definitions</th>\n",
       "      <th></th>\n",
       "    </tr>\n",
       "  </thead>\n",
       "  <tbody>\n",
       "    <tr>\n",
       "      <th>age_of_respondent</th>\n",
       "      <td>The age of the interviewee</td>\n",
       "    </tr>\n",
       "    <tr>\n",
       "      <th>cellphone_access</th>\n",
       "      <td>If interviewee has access to a cellphone: Yes, No</td>\n",
       "    </tr>\n",
       "    <tr>\n",
       "      <th>country</th>\n",
       "      <td>Country interviewee is in.</td>\n",
       "    </tr>\n",
       "    <tr>\n",
       "      <th>education_level</th>\n",
       "      <td>Highest level of education: No formal educatio...</td>\n",
       "    </tr>\n",
       "    <tr>\n",
       "      <th>gender_of_respondent</th>\n",
       "      <td>Gender of interviewee: Male, Female</td>\n",
       "    </tr>\n",
       "    <tr>\n",
       "      <th>household_size</th>\n",
       "      <td>Number of people living in one house</td>\n",
       "    </tr>\n",
       "    <tr>\n",
       "      <th>job_type</th>\n",
       "      <td>Type of job interviewee has: Farming and Fishi...</td>\n",
       "    </tr>\n",
       "    <tr>\n",
       "      <th>location_type</th>\n",
       "      <td>Type of location: Rural, Urban</td>\n",
       "    </tr>\n",
       "    <tr>\n",
       "      <th>marital_status</th>\n",
       "      <td>The martial status of the interviewee: Married...</td>\n",
       "    </tr>\n",
       "    <tr>\n",
       "      <th>relationship_with_head</th>\n",
       "      <td>The interviewee’s relationship with the head o...</td>\n",
       "    </tr>\n",
       "    <tr>\n",
       "      <th>uniqueid</th>\n",
       "      <td>Unique identifier for each interviewee</td>\n",
       "    </tr>\n",
       "    <tr>\n",
       "      <th>year</th>\n",
       "      <td>Year survey was done in.</td>\n",
       "    </tr>\n",
       "  </tbody>\n",
       "</table>\n",
       "</div>"
      ],
      "text/plain": [
       "                                                               Unnamed: 1\n",
       "Variable Definitions                                                     \n",
       "age_of_respondent                              The age of the interviewee\n",
       "cellphone_access        If interviewee has access to a cellphone: Yes, No\n",
       "country                                        Country interviewee is in.\n",
       "education_level         Highest level of education: No formal educatio...\n",
       "gender_of_respondent                  Gender of interviewee: Male, Female\n",
       "household_size                       Number of people living in one house\n",
       "job_type                Type of job interviewee has: Farming and Fishi...\n",
       "location_type                              Type of location: Rural, Urban\n",
       "marital_status          The martial status of the interviewee: Married...\n",
       "relationship_with_head  The interviewee’s relationship with the head o...\n",
       "uniqueid                           Unique identifier for each interviewee\n",
       "year                                             Year survey was done in."
      ]
     },
     "execution_count": 11,
     "metadata": {},
     "output_type": "execute_result"
    }
   ],
   "source": [
    "column_definition.sort_index()"
   ]
  },
  {
   "cell_type": "code",
   "execution_count": 12,
   "metadata": {},
   "outputs": [
    {
     "data": {
      "text/plain": [
       "'Unique identifier for each interviewee'"
      ]
     },
     "execution_count": 12,
     "metadata": {},
     "output_type": "execute_result"
    }
   ],
   "source": [
    "column_definition.loc['uniqueid','Unnamed: 1']"
   ]
  },
  {
   "cell_type": "markdown",
   "metadata": {},
   "source": [
    "## Analysing and Understanding the Data"
   ]
  },
  {
   "cell_type": "markdown",
   "metadata": {},
   "source": [
    "### Column:cellphone_access"
   ]
  },
  {
   "cell_type": "code",
   "execution_count": 13,
   "metadata": {},
   "outputs": [
    {
     "data": {
      "text/plain": [
       "'If interviewee has access to a cellphone: Yes, No'"
      ]
     },
     "execution_count": 13,
     "metadata": {},
     "output_type": "execute_result"
    }
   ],
   "source": [
    "column_definition.loc['cellphone_access','Unnamed: 1']"
   ]
  },
  {
   "cell_type": "code",
   "execution_count": 14,
   "metadata": {},
   "outputs": [
    {
     "data": {
      "text/plain": [
       "cellphone_access  bank_account\n",
       "No                No              0.982867\n",
       "                  Yes             0.017133\n",
       "Yes               No              0.816203\n",
       "                  Yes             0.183797\n",
       "Name: proportion, dtype: float64"
      ]
     },
     "execution_count": 14,
     "metadata": {},
     "output_type": "execute_result"
    }
   ],
   "source": [
    "cell=data.groupby('cellphone_access')\n",
    "cell['bank_account'].value_counts(normalize=True)"
   ]
  },
  {
   "cell_type": "code",
   "execution_count": 15,
   "metadata": {},
   "outputs": [
    {
     "data": {
      "image/png": "[encoded data removed]",
      "text/plain": [
       "<Figure size 1000x600 with 1 Axes>"
      ]
     },
     "metadata": {},
     "output_type": "display_data"
    }
   ],
   "source": [
    "# Reshape the data for better visualization\n",
    "cell_unstacked = cell['bank_account'].value_counts(normalize=True).unstack(level=-1, fill_value=0)\n",
    "\n",
    "# Plot the data\n",
    "cell_unstacked.plot(kind='bar', figsize=(10, 6), stacked=True)\n",
    "\n",
    "# Add labels and title\n",
    "plt.xlabel('Cellphone Access')\n",
    "plt.ylabel('Normalized Count')\n",
    "plt.title('Bank Account Distribution by Cellphone Access')\n",
    "\n",
    "# Show the plot\n",
    "plt.show()"
   ]
  },
  {
   "cell_type": "markdown",
   "metadata": {},
   "source": [
    "### Column: gender_of_respondent"
   ]
  },
  {
   "cell_type": "code",
   "execution_count": 16,
   "metadata": {},
   "outputs": [
    {
     "data": {
      "text/plain": [
       "'Gender of interviewee: Male, Female'"
      ]
     },
     "execution_count": 16,
     "metadata": {},
     "output_type": "execute_result"
    }
   ],
   "source": [
    "column_definition.loc['gender_of_respondent','Unnamed: 1']"
   ]
  },
  {
   "cell_type": "code",
   "execution_count": 17,
   "metadata": {},
   "outputs": [
    {
     "data": {
      "text/plain": [
       "gender_of_respondent  bank_account\n",
       "Female                No              0.893205\n",
       "                      Yes             0.106795\n",
       "Male                  No              0.810304\n",
       "                      Yes             0.189696\n",
       "Name: proportion, dtype: float64"
      ]
     },
     "execution_count": 17,
     "metadata": {},
     "output_type": "execute_result"
    }
   ],
   "source": [
    "gender=data.groupby('gender_of_respondent')\n",
    "gender['bank_account'].value_counts(normalize=True)"
   ]
  },
  {
   "cell_type": "code",
   "execution_count": 18,
   "metadata": {},
   "outputs": [
    {
     "data": {
      "image/png": "[encoded data removed]",
      "text/plain": [
       "<Figure size 1000x600 with 1 Axes>"
      ]
     },
     "metadata": {},
     "output_type": "display_data"
    }
   ],
   "source": [
    "# Reshape the data for better visualization\n",
    "gender_unstacked = gender['bank_account'].value_counts(normalize=True).unstack(level=-1, fill_value=0)\n",
    "\n",
    "# Plot the data\n",
    "gender_unstacked.plot(kind='bar', figsize=(10, 6), stacked=True)\n",
    "\n",
    "# Add labels and title\n",
    "plt.xlabel('Gender of Respondent')\n",
    "plt.ylabel('Normalized Count')\n",
    "plt.title('Bank Account Distribution by Gender')\n",
    "\n",
    "# Show the plot\n",
    "plt.show()"
   ]
  },
  {
   "cell_type": "markdown",
   "metadata": {},
   "source": [
    "### Column:location_type\n"
   ]
  },
  {
   "cell_type": "code",
   "execution_count": 19,
   "metadata": {},
   "outputs": [
    {
     "data": {
      "text/plain": [
       "location_type  bank_account\n",
       "Rural          No              0.883497\n",
       "               Yes             0.116503\n",
       "Urban          No              0.821261\n",
       "               Yes             0.178739\n",
       "Name: proportion, dtype: float64"
      ]
     },
     "execution_count": 19,
     "metadata": {},
     "output_type": "execute_result"
    }
   ],
   "source": [
    "location=data.groupby('location_type')\n",
    "location['bank_account'].value_counts(normalize=True)"
   ]
  },
  {
   "cell_type": "code",
   "execution_count": 20,
   "metadata": {},
   "outputs": [
    {
     "data": {
      "image/png": "[encoded data removed]",
      "text/plain": [
       "<Figure size 1200x800 with 1 Axes>"
      ]
     },
     "metadata": {},
     "output_type": "display_data"
    }
   ],
   "source": [
    "# Reshape the data for better visualization\n",
    "location_unstacked = location['bank_account'].value_counts().unstack(level=-1, fill_value=0)\n",
    "\n",
    "# Plot the data\n",
    "location_unstacked.plot(kind='bar', stacked=True, figsize=(12, 8))\n",
    "\n",
    "# Add labels and title\n",
    "plt.xlabel('Location Type')\n",
    "plt.ylabel('Count')\n",
    "plt.title('Bank Account Distribution by Location Type')\n",
    "\n",
    "# Show the plot\n",
    "plt.show()"
   ]
  },
  {
   "cell_type": "markdown",
   "metadata": {},
   "source": [
    "### Column: job_type"
   ]
  },
  {
   "cell_type": "code",
   "execution_count": 21,
   "metadata": {},
   "outputs": [
    {
     "data": {
      "text/plain": [
       "'Type of job interviewee has: Farming and Fishing, Self employed, Formally employed Government, Formally employed Private, Informally employed, Remittance Dependent, Government Dependent, Other Income, No Income, Dont Know/Refuse to answer'"
      ]
     },
     "execution_count": 21,
     "metadata": {},
     "output_type": "execute_result"
    }
   ],
   "source": [
    "column_definition.loc['job_type','Unnamed: 1']"
   ]
  },
  {
   "cell_type": "code",
   "execution_count": 22,
   "metadata": {},
   "outputs": [
    {
     "data": {
      "text/plain": [
       "job_type                      bank_account\n",
       "Dont Know/Refuse to answer    No              0.888889\n",
       "                              Yes             0.111111\n",
       "Farming and Fishing           No              0.883294\n",
       "                              Yes             0.116706\n",
       "Formally employed Government  Yes             0.775194\n",
       "                                                ...   \n",
       "Other Income                  Yes             0.181481\n",
       "Remittance Dependent          No              0.905026\n",
       "                              Yes             0.094974\n",
       "Self employed                 No              0.868262\n",
       "                              Yes             0.131738\n",
       "Name: proportion, Length: 20, dtype: float64"
      ]
     },
     "execution_count": 22,
     "metadata": {},
     "output_type": "execute_result"
    }
   ],
   "source": [
    "job=data.groupby('job_type')\n",
    "job['bank_account'].value_counts(normalize=True)"
   ]
  },
  {
   "cell_type": "code",
   "execution_count": 23,
   "metadata": {},
   "outputs": [
    {
     "data": {
      "image/png": "[encoded data removed]",
      "text/plain": [
       "<Figure size 1200x800 with 1 Axes>"
      ]
     },
     "metadata": {},
     "output_type": "display_data"
    }
   ],
   "source": [
    "# Reshape the data for better visualization\n",
    "job_unstacked = job['bank_account'].value_counts().unstack(level=-1, fill_value=0)\n",
    "\n",
    "# Plot the data\n",
    "job_unstacked.plot(kind='bar', stacked=True, figsize=(12, 8))\n",
    "\n",
    "# Add labels and title\n",
    "plt.xlabel('Job Type')\n",
    "plt.ylabel('Count')\n",
    "plt.title('Bank Account Distribution by Job Type')\n",
    "\n",
    "# Show the plot\n",
    "plt.show()"
   ]
  },
  {
   "cell_type": "markdown",
   "metadata": {},
   "source": [
    "### Column:marital_status"
   ]
  },
  {
   "cell_type": "code",
   "execution_count": 24,
   "metadata": {},
   "outputs": [
    {
     "data": {
      "text/plain": [
       "'The martial status of the interviewee: Married/Living together, Divorced/Seperated, Widowed, Single/Never Married, Don’t know'"
      ]
     },
     "execution_count": 24,
     "metadata": {},
     "output_type": "execute_result"
    }
   ],
   "source": [
    "column_definition.loc['marital_status','Unnamed: 1']"
   ]
  },
  {
   "cell_type": "code",
   "execution_count": 25,
   "metadata": {},
   "outputs": [
    {
     "data": {
      "text/plain": [
       "marital_status           bank_account\n",
       "Divorced/Seperated       No              1842\n",
       "                         Yes              234\n",
       "Dont know                No                 6\n",
       "                         Yes                2\n",
       "Married/Living together  No              8883\n",
       "                         Yes             1866\n",
       "Single/Never Married     No              7017\n",
       "                         Yes              966\n",
       "Widowed                  No              2464\n",
       "                         Yes              244\n",
       "Name: count, dtype: int64"
      ]
     },
     "execution_count": 25,
     "metadata": {},
     "output_type": "execute_result"
    }
   ],
   "source": [
    "marriage=data.groupby('marital_status')\n",
    "marriage['bank_account'].value_counts()"
   ]
  },
  {
   "cell_type": "code",
   "execution_count": 26,
   "metadata": {},
   "outputs": [
    {
     "data": {
      "image/png": "[encoded data removed]",
      "text/plain": [
       "<Figure size 1200x800 with 1 Axes>"
      ]
     },
     "metadata": {},
     "output_type": "display_data"
    }
   ],
   "source": [
    "# Reshape the data for better visualization\n",
    "marriage_unstacked = marriage['bank_account'].value_counts().unstack(level=-1, fill_value=0)\n",
    "\n",
    "# Plot the data\n",
    "marriage_unstacked.plot(kind='bar', stacked=True, figsize=(12, 8))\n",
    "\n",
    "# Add labels and title\n",
    "plt.xlabel('Marital Status')\n",
    "plt.ylabel('Count')\n",
    "plt.title('Bank Account Distribution by Marital Status')\n",
    "\n",
    "# Show the plot\n",
    "plt.show()"
   ]
  },
  {
   "cell_type": "markdown",
   "metadata": {},
   "source": [
    "### Column : relationship_with_head"
   ]
  },
  {
   "cell_type": "code",
   "execution_count": 27,
   "metadata": {},
   "outputs": [
    {
     "data": {
      "text/plain": [
       "'The interviewee’s relationship with the head of the house:Head of Household, Spouse, Child, Parent, Other relative, Other non-relatives, Dont know'"
      ]
     },
     "execution_count": 27,
     "metadata": {},
     "output_type": "execute_result"
    }
   ],
   "source": [
    "column_definition.loc['relationship_with_head','Unnamed: 1']"
   ]
  },
  {
   "cell_type": "code",
   "execution_count": 28,
   "metadata": {},
   "outputs": [
    {
     "data": {
      "text/plain": [
       "relationship_with_head  bank_account\n",
       "Child                   No               2036\n",
       "                        Yes               193\n",
       "Head of Household       No              10558\n",
       "                        Yes              2273\n",
       "Other non-relatives     No                170\n",
       "                        Yes                20\n",
       "Other relative          No                602\n",
       "                        Yes                66\n",
       "Parent                  No               1021\n",
       "                        Yes                65\n",
       "Spouse                  No               5825\n",
       "                        Yes               695\n",
       "Name: count, dtype: int64"
      ]
     },
     "execution_count": 28,
     "metadata": {},
     "output_type": "execute_result"
    }
   ],
   "source": [
    "#bank account relationship_with_head\n",
    "rlship=data.groupby('relationship_with_head')\n",
    "rlship['bank_account'].value_counts()"
   ]
  },
  {
   "cell_type": "code",
   "execution_count": 29,
   "metadata": {},
   "outputs": [
    {
     "data": {
      "image/png": "[encoded data removed]",
      "text/plain": [
       "<Figure size 1200x800 with 1 Axes>"
      ]
     },
     "metadata": {},
     "output_type": "display_data"
    }
   ],
   "source": [
    "# Reshape the data for better visualization\n",
    "rlship_unstacked = rlship['bank_account'].value_counts().unstack(level=-1, fill_value=0)\n",
    "\n",
    "# Plot the data\n",
    "rlship_unstacked.plot(kind='bar', stacked=True, figsize=(12, 8))\n",
    "\n",
    "# Add labels and title\n",
    "plt.xlabel('Relationship with Head')\n",
    "plt.ylabel('Count')\n",
    "plt.title('Bank Account Distribution by Relationship with Head')\n",
    "\n",
    "# Show the plot\n",
    "plt.show()"
   ]
  },
  {
   "cell_type": "markdown",
   "metadata": {},
   "source": [
    "### Column: age_of_respondent"
   ]
  },
  {
   "cell_type": "code",
   "execution_count": 30,
   "metadata": {},
   "outputs": [
    {
     "data": {
      "image/png": "[encoded data removed]",
      "text/plain": [
       "<Figure size 1400x800 with 1 Axes>"
      ]
     },
     "metadata": {},
     "output_type": "display_data"
    }
   ],
   "source": [
    "\n",
    "#age per country\n",
    "# Group by both 'age_of_respondent' and 'country'\n",
    "age_country_group = data.groupby(['age_of_respondent', 'country'])\n",
    "\n",
    "# Calculate the counts\n",
    "age_country_counts = age_country_group.size()\n",
    "\n",
    "# Reshape the data for better visualization\n",
    "age_country_unstacked = age_country_counts.unstack(level=-1, fill_value=0)\n",
    "\n",
    "# Plot the data\n",
    "age_country_unstacked.plot(kind='bar', stacked=True, figsize=(14, 8))\n",
    "\n",
    "# Add labels and title\n",
    "plt.xlabel('Age of Respondent')\n",
    "plt.ylabel('Count')\n",
    "plt.title('Distribution of Countries within Age Groups')\n",
    "\n",
    "# Show the plot\n",
    "plt.show()"
   ]
  },
  {
   "cell_type": "code",
   "execution_count": 31,
   "metadata": {},
   "outputs": [],
   "source": [
    "age_group=data.groupby('age_of_respondent')\n",
    "age_counts=age_group.size()"
   ]
  },
  {
   "cell_type": "code",
   "execution_count": 32,
   "metadata": {},
   "outputs": [
    {
     "data": {
      "image/png": "[encoded data removed]",
      "text/plain": [
       "<Figure size 1000x600 with 1 Axes>"
      ]
     },
     "metadata": {},
     "output_type": "display_data"
    }
   ],
   "source": [
    "# Plotting\n",
    "plt.figure(figsize=(10, 6))\n",
    "age_counts.plot(kind='bar', color='skyblue')\n",
    "plt.title('Distribution of Respondents Based on Age Groups')\n",
    "plt.xlabel('Age Group')\n",
    "plt.ylabel('Count')\n",
    "plt.show()"
   ]
  },
  {
   "cell_type": "code",
   "execution_count": 33,
   "metadata": {},
   "outputs": [
    {
     "data": {
      "text/plain": [
       "age_of_respondent  bank_account\n",
       "16                 No              457\n",
       "                   Yes               5\n",
       "17                 No              467\n",
       "                   Yes              10\n",
       "18                 No              564\n",
       "                                  ... \n",
       "38                 Yes             113\n",
       "39                 No              320\n",
       "                   Yes              54\n",
       "40                 No              560\n",
       "                   Yes             125\n",
       "Name: count, Length: 50, dtype: int64"
      ]
     },
     "execution_count": 33,
     "metadata": {},
     "output_type": "execute_result"
    }
   ],
   "source": [
    "#ages per bank acount\n",
    "age=age_group['bank_account'].value_counts()\n",
    "age.head(50)"
   ]
  },
  {
   "cell_type": "code",
   "execution_count": 34,
   "metadata": {},
   "outputs": [
    {
     "data": {
      "image/png": "[encoded data removed]",
      "text/plain": [
       "<Figure size 1200x800 with 1 Axes>"
      ]
     },
     "metadata": {},
     "output_type": "display_data"
    }
   ],
   "source": [
    "# Reshape the data for plotting\n",
    "age_unstacked = age.unstack(level=-1, fill_value=0)\n",
    "\n",
    "# Create a stacked bar plot\n",
    "age_unstacked.plot(kind='bar', stacked=True, figsize=(12, 8))\n",
    "\n",
    "# Add labels and title\n",
    "plt.xlabel('Age of Respondent')\n",
    "plt.ylabel('Count')\n",
    "plt.title('Bank Account Distribution by Age Group')\n",
    "\n",
    "# Show the plot\n",
    "plt.show()"
   ]
  },
  {
   "cell_type": "markdown",
   "metadata": {},
   "source": [
    "### Column:year"
   ]
  },
  {
   "cell_type": "code",
   "execution_count": 35,
   "metadata": {},
   "outputs": [
    {
     "data": {
      "text/plain": [
       "year\n",
       "2016    8735\n",
       "2018    8169\n",
       "2017    6620\n",
       "Name: count, dtype: int64"
      ]
     },
     "execution_count": 35,
     "metadata": {},
     "output_type": "execute_result"
    }
   ],
   "source": [
    "data['year'].value_counts()"
   ]
  },
  {
   "cell_type": "code",
   "execution_count": 36,
   "metadata": {},
   "outputs": [
    {
     "data": {
      "text/html": [
       "<div>\n",
       "<style scoped>\n",
       "    .dataframe tbody tr th:only-of-type {\n",
       "        vertical-align: middle;\n",
       "    }\n",
       "\n",
       "    .dataframe tbody tr th {\n",
       "        vertical-align: top;\n",
       "    }\n",
       "\n",
       "    .dataframe thead th {\n",
       "        text-align: right;\n",
       "    }\n",
       "</style>\n",
       "<table border=\"1\" class=\"dataframe\">\n",
       "  <thead>\n",
       "    <tr style=\"text-align: right;\">\n",
       "      <th></th>\n",
       "      <th>bank_account</th>\n",
       "      <th>country</th>\n",
       "    </tr>\n",
       "  </thead>\n",
       "  <tbody>\n",
       "    <tr>\n",
       "      <th>0</th>\n",
       "      <td>Yes</td>\n",
       "      <td>Kenya</td>\n",
       "    </tr>\n",
       "    <tr>\n",
       "      <th>1</th>\n",
       "      <td>No</td>\n",
       "      <td>Kenya</td>\n",
       "    </tr>\n",
       "    <tr>\n",
       "      <th>2</th>\n",
       "      <td>Yes</td>\n",
       "      <td>Kenya</td>\n",
       "    </tr>\n",
       "    <tr>\n",
       "      <th>3</th>\n",
       "      <td>No</td>\n",
       "      <td>Kenya</td>\n",
       "    </tr>\n",
       "    <tr>\n",
       "      <th>4</th>\n",
       "      <td>No</td>\n",
       "      <td>Kenya</td>\n",
       "    </tr>\n",
       "    <tr>\n",
       "      <th>...</th>\n",
       "      <td>...</td>\n",
       "      <td>...</td>\n",
       "    </tr>\n",
       "    <tr>\n",
       "      <th>23519</th>\n",
       "      <td>No</td>\n",
       "      <td>Uganda</td>\n",
       "    </tr>\n",
       "    <tr>\n",
       "      <th>23520</th>\n",
       "      <td>No</td>\n",
       "      <td>Uganda</td>\n",
       "    </tr>\n",
       "    <tr>\n",
       "      <th>23521</th>\n",
       "      <td>No</td>\n",
       "      <td>Uganda</td>\n",
       "    </tr>\n",
       "    <tr>\n",
       "      <th>23522</th>\n",
       "      <td>No</td>\n",
       "      <td>Uganda</td>\n",
       "    </tr>\n",
       "    <tr>\n",
       "      <th>23523</th>\n",
       "      <td>No</td>\n",
       "      <td>Uganda</td>\n",
       "    </tr>\n",
       "  </tbody>\n",
       "</table>\n",
       "<p>8169 rows × 2 columns</p>\n",
       "</div>"
      ],
      "text/plain": [
       "      bank_account country\n",
       "0              Yes   Kenya\n",
       "1               No   Kenya\n",
       "2              Yes   Kenya\n",
       "3               No   Kenya\n",
       "4               No   Kenya\n",
       "...            ...     ...\n",
       "23519           No  Uganda\n",
       "23520           No  Uganda\n",
       "23521           No  Uganda\n",
       "23522           No  Uganda\n",
       "23523           No  Uganda\n",
       "\n",
       "[8169 rows x 2 columns]"
      ]
     },
     "execution_count": 36,
     "metadata": {},
     "output_type": "execute_result"
    }
   ],
   "source": [
    "filt=(data['year']>=2018)\n",
    "data.loc[filt, ['bank_account','country']]"
   ]
  },
  {
   "cell_type": "code",
   "execution_count": 37,
   "metadata": {},
   "outputs": [],
   "source": [
    "year=data.groupby('year')"
   ]
  },
  {
   "cell_type": "code",
   "execution_count": 38,
   "metadata": {},
   "outputs": [
    {
     "data": {
      "text/plain": [
       "year  country \n",
       "2016  Rwanda      8735\n",
       "2017  Tanzania    6620\n",
       "2018  Kenya       6068\n",
       "      Uganda      2101\n",
       "Name: count, dtype: int64"
      ]
     },
     "execution_count": 38,
     "metadata": {},
     "output_type": "execute_result"
    }
   ],
   "source": [
    "year['country'].value_counts()"
   ]
  },
  {
   "cell_type": "code",
   "execution_count": 39,
   "metadata": {},
   "outputs": [
    {
     "data": {
      "image/png": "[encoded data removed]",
      "text/plain": [
       "<Figure size 1000x600 with 1 Axes>"
      ]
     },
     "metadata": {},
     "output_type": "display_data"
    }
   ],
   "source": [
    "# Plotting\n",
    "plt.figure(figsize=(10, 6))\n",
    "year['country'].value_counts().plot(kind='bar', color='skyblue')\n",
    "plt.title('Counts of Unique Countries')\n",
    "plt.xlabel('Country')\n",
    "plt.ylabel('Count')\n",
    "plt.show()"
   ]
  },
  {
   "cell_type": "markdown",
   "metadata": {},
   "source": [
    "### Column:education_level"
   ]
  },
  {
   "cell_type": "code",
   "execution_count": 40,
   "metadata": {},
   "outputs": [
    {
     "data": {
      "text/plain": [
       "education_level\n",
       "Primary education                  0.543743\n",
       "No formal education                0.191932\n",
       "Secondary education                0.179519\n",
       "Tertiary education                 0.049184\n",
       "Vocational/Specialised training    0.034135\n",
       "Other/Dont know/RTA                0.001488\n",
       "Name: proportion, dtype: float64"
      ]
     },
     "execution_count": 40,
     "metadata": {},
     "output_type": "execute_result"
    }
   ],
   "source": [
    "#understanding data #education_level\n",
    "data['education_level'].value_counts(normalize=True)"
   ]
  },
  {
   "cell_type": "code",
   "execution_count": 41,
   "metadata": {},
   "outputs": [
    {
     "data": {
      "text/plain": [
       "education_level                  bank_account\n",
       "No formal education              No              0.961019\n",
       "                                 Yes             0.038981\n",
       "Other/Dont know/RTA              No              0.685714\n",
       "                                 Yes             0.314286\n",
       "Primary education                No              0.914549\n",
       "                                 Yes             0.085451\n",
       "Secondary education              No              0.767227\n",
       "                                 Yes             0.232773\n",
       "Tertiary education               Yes             0.510804\n",
       "                                 No              0.489196\n",
       "Vocational/Specialised training  Yes             0.570361\n",
       "                                 No              0.429639\n",
       "Name: proportion, dtype: float64"
      ]
     },
     "execution_count": 41,
     "metadata": {},
     "output_type": "execute_result"
    }
   ],
   "source": [
    "education_group=data.groupby('education_level')\n",
    "education_group['bank_account'].value_counts(normalize=True)"
   ]
  },
  {
   "cell_type": "code",
   "execution_count": 42,
   "metadata": {},
   "outputs": [
    {
     "data": {
      "image/png": "[encoded data removed]",
      "text/plain": [
       "<Figure size 1200x800 with 1 Axes>"
      ]
     },
     "metadata": {},
     "output_type": "display_data"
    }
   ],
   "source": [
    "\n",
    "# Calculate the value counts for bank accounts within each education level\n",
    "bank_account_per_education = education_group['bank_account'].value_counts().unstack()\n",
    "\n",
    "# Plotting the grouped bar chart\n",
    "bank_account_per_education.plot(kind='bar', stacked=True, figsize=(12, 8))\n",
    "plt.title('Bank Account Presence by Education Level')\n",
    "plt.xlabel('Education Level')\n",
    "plt.ylabel('Count')\n",
    "plt.legend(title='Bank Account', bbox_to_anchor=(1.05, 1), loc='upper left')\n",
    "plt.xticks(rotation=45, ha='right')  # Rotate x-axis labels for better readability\n",
    "plt.show()"
   ]
  },
  {
   "cell_type": "code",
   "execution_count": 43,
   "metadata": {},
   "outputs": [
    {
     "data": {
      "text/plain": [
       "country\n",
       "Rwanda      8735\n",
       "Tanzania    6620\n",
       "Kenya       6068\n",
       "Uganda      2101\n",
       "Name: count, dtype: int64"
      ]
     },
     "execution_count": 43,
     "metadata": {},
     "output_type": "execute_result"
    }
   ],
   "source": [
    "#understanding the data : Countries\n",
    "data['country'].value_counts()"
   ]
  },
  {
   "cell_type": "code",
   "execution_count": 44,
   "metadata": {},
   "outputs": [],
   "source": [
    "country_group=data.groupby('country')"
   ]
  },
  {
   "cell_type": "code",
   "execution_count": 45,
   "metadata": {},
   "outputs": [
    {
     "data": {
      "text/plain": [
       "country   bank_account\n",
       "Kenya     No              0.749341\n",
       "          Yes             0.250659\n",
       "Rwanda    No              0.885175\n",
       "          Yes             0.114825\n",
       "Tanzania  No              0.908308\n",
       "          Yes             0.091692\n",
       "Uganda    No              0.913851\n",
       "          Yes             0.086149\n",
       "Name: proportion, dtype: float64"
      ]
     },
     "execution_count": 45,
     "metadata": {},
     "output_type": "execute_result"
    }
   ],
   "source": [
    "#bank accounts per country\n",
    "country_counts=country_group['bank_account'].value_counts(normalize=True)\n",
    "country_counts"
   ]
  },
  {
   "cell_type": "code",
   "execution_count": 46,
   "metadata": {},
   "outputs": [
    {
     "data": {
      "image/png": "[encoded data removed]",
      "text/plain": [
       "<Figure size 1000x600 with 1 Axes>"
      ]
     },
     "metadata": {},
     "output_type": "display_data"
    }
   ],
   "source": [
    "# Convert the result to a DataFrame for easier plotting\n",
    "df_normalized = country_counts.unstack()\n",
    "\n",
    "# Plotting\n",
    "ax = df_normalized.plot(kind='bar', stacked=True, figsize=(10, 6), colormap='viridis')\n",
    "ax.set_title('Distribution of Bank Accounts per Country')\n",
    "ax.set_xlabel('Country')\n",
    "ax.set_ylabel('Normalized Count')\n",
    "plt.legend(title='Bank Account')\n",
    "plt.show()"
   ]
  },
  {
   "cell_type": "code",
   "execution_count": 47,
   "metadata": {},
   "outputs": [
    {
     "data": {
      "text/plain": [
       "country  education_level                \n",
       "Kenya    Primary education                  2600\n",
       "         Secondary education                1785\n",
       "         No formal education                 941\n",
       "         Vocational/Specialised training     442\n",
       "         Tertiary education                  292\n",
       "                                            ... \n",
       "Uganda   Secondary education                 514\n",
       "         No formal education                 319\n",
       "         Vocational/Specialised training      99\n",
       "         Tertiary education                   32\n",
       "         Other/Dont know/RTA                   6\n",
       "Name: count, Length: 24, dtype: int64"
      ]
     },
     "execution_count": 47,
     "metadata": {},
     "output_type": "execute_result"
    }
   ],
   "source": [
    "#education level per country\n",
    "country_group['education_level'].value_counts()"
   ]
  },
  {
   "cell_type": "code",
   "execution_count": 48,
   "metadata": {},
   "outputs": [
    {
     "data": {
      "image/png": "[encoded data removed]",
      "text/plain": [
       "<Figure size 1200x800 with 1 Axes>"
      ]
     },
     "metadata": {},
     "output_type": "display_data"
    }
   ],
   "source": [
    "# Calculate the value counts for education levels within each country\n",
    "education_per_country = country_group['education_level'].value_counts().unstack()\n",
    "\n",
    "# Plotting the grouped bar chart\n",
    "education_per_country.plot(kind='bar', stacked=True, figsize=(12, 8))\n",
    "plt.title('Education Level Distribution Per Country')\n",
    "plt.xlabel('Country')\n",
    "plt.ylabel('Count')\n",
    "plt.legend(title='Education Level', bbox_to_anchor=(1.05, 1), loc='upper left')\n",
    "plt.xticks(rotation=45, ha='right')  # Rotate x-axis labels for better readability\n",
    "plt.show()"
   ]
  },
  {
   "cell_type": "code",
   "execution_count": 49,
   "metadata": {},
   "outputs": [],
   "source": [
    "#drop columns\n",
    "columns_to_drop=['year','country','uniqueid']\n",
    "new_data=data.drop(columns=columns_to_drop)"
   ]
  },
  {
   "cell_type": "code",
   "execution_count": 50,
   "metadata": {},
   "outputs": [],
   "source": [
    "new_data.set_index('iuniqueid', inplace=True)"
   ]
  },
  {
   "cell_type": "code",
   "execution_count": 51,
   "metadata": {},
   "outputs": [
    {
     "data": {
      "text/plain": [
       "Index(['bank_account', 'location_type', 'cellphone_access', 'household_size',\n",
       "       'age_of_respondent', 'gender_of_respondent', 'relationship_with_head',\n",
       "       'marital_status', 'education_level', 'job_type'],\n",
       "      dtype='object')"
      ]
     },
     "execution_count": 51,
     "metadata": {},
     "output_type": "execute_result"
    }
   ],
   "source": [
    "new_data.columns"
   ]
  },
  {
   "cell_type": "code",
   "execution_count": 52,
   "metadata": {},
   "outputs": [
    {
     "data": {
      "text/html": [
       "<div>\n",
       "<style scoped>\n",
       "    .dataframe tbody tr th:only-of-type {\n",
       "        vertical-align: middle;\n",
       "    }\n",
       "\n",
       "    .dataframe tbody tr th {\n",
       "        vertical-align: top;\n",
       "    }\n",
       "\n",
       "    .dataframe thead th {\n",
       "        text-align: right;\n",
       "    }\n",
       "</style>\n",
       "<table border=\"1\" class=\"dataframe\">\n",
       "  <thead>\n",
       "    <tr style=\"text-align: right;\">\n",
       "      <th></th>\n",
       "      <th>bank_account</th>\n",
       "      <th>location_type</th>\n",
       "      <th>cellphone_access</th>\n",
       "      <th>household_size</th>\n",
       "      <th>age_of_respondent</th>\n",
       "      <th>gender_of_respondent</th>\n",
       "      <th>relationship_with_head</th>\n",
       "      <th>marital_status</th>\n",
       "      <th>education_level</th>\n",
       "      <th>job_type</th>\n",
       "    </tr>\n",
       "    <tr>\n",
       "      <th>iuniqueid</th>\n",
       "      <th></th>\n",
       "      <th></th>\n",
       "      <th></th>\n",
       "      <th></th>\n",
       "      <th></th>\n",
       "      <th></th>\n",
       "      <th></th>\n",
       "      <th></th>\n",
       "      <th></th>\n",
       "      <th></th>\n",
       "    </tr>\n",
       "  </thead>\n",
       "  <tbody>\n",
       "    <tr>\n",
       "      <th>uniqueid_1xKenya</th>\n",
       "      <td>Yes</td>\n",
       "      <td>Rural</td>\n",
       "      <td>Yes</td>\n",
       "      <td>3</td>\n",
       "      <td>24</td>\n",
       "      <td>Female</td>\n",
       "      <td>Spouse</td>\n",
       "      <td>Married/Living together</td>\n",
       "      <td>Secondary education</td>\n",
       "      <td>Self employed</td>\n",
       "    </tr>\n",
       "    <tr>\n",
       "      <th>uniqueid_2xKenya</th>\n",
       "      <td>No</td>\n",
       "      <td>Rural</td>\n",
       "      <td>No</td>\n",
       "      <td>5</td>\n",
       "      <td>70</td>\n",
       "      <td>Female</td>\n",
       "      <td>Head of Household</td>\n",
       "      <td>Widowed</td>\n",
       "      <td>No formal education</td>\n",
       "      <td>Government Dependent</td>\n",
       "    </tr>\n",
       "    <tr>\n",
       "      <th>uniqueid_3xKenya</th>\n",
       "      <td>Yes</td>\n",
       "      <td>Urban</td>\n",
       "      <td>Yes</td>\n",
       "      <td>5</td>\n",
       "      <td>26</td>\n",
       "      <td>Male</td>\n",
       "      <td>Other relative</td>\n",
       "      <td>Single/Never Married</td>\n",
       "      <td>Vocational/Specialised training</td>\n",
       "      <td>Self employed</td>\n",
       "    </tr>\n",
       "    <tr>\n",
       "      <th>uniqueid_4xKenya</th>\n",
       "      <td>No</td>\n",
       "      <td>Rural</td>\n",
       "      <td>Yes</td>\n",
       "      <td>5</td>\n",
       "      <td>34</td>\n",
       "      <td>Female</td>\n",
       "      <td>Head of Household</td>\n",
       "      <td>Married/Living together</td>\n",
       "      <td>Primary education</td>\n",
       "      <td>Formally employed Private</td>\n",
       "    </tr>\n",
       "    <tr>\n",
       "      <th>uniqueid_5xKenya</th>\n",
       "      <td>No</td>\n",
       "      <td>Urban</td>\n",
       "      <td>No</td>\n",
       "      <td>8</td>\n",
       "      <td>26</td>\n",
       "      <td>Male</td>\n",
       "      <td>Child</td>\n",
       "      <td>Single/Never Married</td>\n",
       "      <td>Primary education</td>\n",
       "      <td>Informally employed</td>\n",
       "    </tr>\n",
       "    <tr>\n",
       "      <th>...</th>\n",
       "      <td>...</td>\n",
       "      <td>...</td>\n",
       "      <td>...</td>\n",
       "      <td>...</td>\n",
       "      <td>...</td>\n",
       "      <td>...</td>\n",
       "      <td>...</td>\n",
       "      <td>...</td>\n",
       "      <td>...</td>\n",
       "      <td>...</td>\n",
       "    </tr>\n",
       "    <tr>\n",
       "      <th>uniqueid_2113xUganda</th>\n",
       "      <td>No</td>\n",
       "      <td>Rural</td>\n",
       "      <td>Yes</td>\n",
       "      <td>4</td>\n",
       "      <td>48</td>\n",
       "      <td>Female</td>\n",
       "      <td>Head of Household</td>\n",
       "      <td>Divorced/Seperated</td>\n",
       "      <td>No formal education</td>\n",
       "      <td>Other Income</td>\n",
       "    </tr>\n",
       "    <tr>\n",
       "      <th>uniqueid_2114xUganda</th>\n",
       "      <td>No</td>\n",
       "      <td>Rural</td>\n",
       "      <td>Yes</td>\n",
       "      <td>2</td>\n",
       "      <td>27</td>\n",
       "      <td>Female</td>\n",
       "      <td>Head of Household</td>\n",
       "      <td>Single/Never Married</td>\n",
       "      <td>Secondary education</td>\n",
       "      <td>Other Income</td>\n",
       "    </tr>\n",
       "    <tr>\n",
       "      <th>uniqueid_2115xUganda</th>\n",
       "      <td>No</td>\n",
       "      <td>Rural</td>\n",
       "      <td>Yes</td>\n",
       "      <td>5</td>\n",
       "      <td>27</td>\n",
       "      <td>Female</td>\n",
       "      <td>Parent</td>\n",
       "      <td>Widowed</td>\n",
       "      <td>Primary education</td>\n",
       "      <td>Other Income</td>\n",
       "    </tr>\n",
       "    <tr>\n",
       "      <th>uniqueid_2116xUganda</th>\n",
       "      <td>No</td>\n",
       "      <td>Urban</td>\n",
       "      <td>Yes</td>\n",
       "      <td>7</td>\n",
       "      <td>30</td>\n",
       "      <td>Female</td>\n",
       "      <td>Parent</td>\n",
       "      <td>Divorced/Seperated</td>\n",
       "      <td>Secondary education</td>\n",
       "      <td>Self employed</td>\n",
       "    </tr>\n",
       "    <tr>\n",
       "      <th>uniqueid_2117xUganda</th>\n",
       "      <td>No</td>\n",
       "      <td>Rural</td>\n",
       "      <td>Yes</td>\n",
       "      <td>10</td>\n",
       "      <td>20</td>\n",
       "      <td>Male</td>\n",
       "      <td>Child</td>\n",
       "      <td>Single/Never Married</td>\n",
       "      <td>Secondary education</td>\n",
       "      <td>No Income</td>\n",
       "    </tr>\n",
       "  </tbody>\n",
       "</table>\n",
       "<p>23524 rows × 10 columns</p>\n",
       "</div>"
      ],
      "text/plain": [
       "                     bank_account location_type cellphone_access  \\\n",
       "iuniqueid                                                          \n",
       "uniqueid_1xKenya              Yes         Rural              Yes   \n",
       "uniqueid_2xKenya               No         Rural               No   \n",
       "uniqueid_3xKenya              Yes         Urban              Yes   \n",
       "uniqueid_4xKenya               No         Rural              Yes   \n",
       "uniqueid_5xKenya               No         Urban               No   \n",
       "...                           ...           ...              ...   \n",
       "uniqueid_2113xUganda           No         Rural              Yes   \n",
       "uniqueid_2114xUganda           No         Rural              Yes   \n",
       "uniqueid_2115xUganda           No         Rural              Yes   \n",
       "uniqueid_2116xUganda           No         Urban              Yes   \n",
       "uniqueid_2117xUganda           No         Rural              Yes   \n",
       "\n",
       "                      household_size  age_of_respondent gender_of_respondent  \\\n",
       "iuniqueid                                                                      \n",
       "uniqueid_1xKenya                   3                 24               Female   \n",
       "uniqueid_2xKenya                   5                 70               Female   \n",
       "uniqueid_3xKenya                   5                 26                 Male   \n",
       "uniqueid_4xKenya                   5                 34               Female   \n",
       "uniqueid_5xKenya                   8                 26                 Male   \n",
       "...                              ...                ...                  ...   \n",
       "uniqueid_2113xUganda               4                 48               Female   \n",
       "uniqueid_2114xUganda               2                 27               Female   \n",
       "uniqueid_2115xUganda               5                 27               Female   \n",
       "uniqueid_2116xUganda               7                 30               Female   \n",
       "uniqueid_2117xUganda              10                 20                 Male   \n",
       "\n",
       "                     relationship_with_head           marital_status  \\\n",
       "iuniqueid                                                              \n",
       "uniqueid_1xKenya                     Spouse  Married/Living together   \n",
       "uniqueid_2xKenya          Head of Household                  Widowed   \n",
       "uniqueid_3xKenya             Other relative     Single/Never Married   \n",
       "uniqueid_4xKenya          Head of Household  Married/Living together   \n",
       "uniqueid_5xKenya                      Child     Single/Never Married   \n",
       "...                                     ...                      ...   \n",
       "uniqueid_2113xUganda      Head of Household       Divorced/Seperated   \n",
       "uniqueid_2114xUganda      Head of Household     Single/Never Married   \n",
       "uniqueid_2115xUganda                 Parent                  Widowed   \n",
       "uniqueid_2116xUganda                 Parent       Divorced/Seperated   \n",
       "uniqueid_2117xUganda                  Child     Single/Never Married   \n",
       "\n",
       "                                      education_level  \\\n",
       "iuniqueid                                               \n",
       "uniqueid_1xKenya                  Secondary education   \n",
       "uniqueid_2xKenya                  No formal education   \n",
       "uniqueid_3xKenya      Vocational/Specialised training   \n",
       "uniqueid_4xKenya                    Primary education   \n",
       "uniqueid_5xKenya                    Primary education   \n",
       "...                                               ...   \n",
       "uniqueid_2113xUganda              No formal education   \n",
       "uniqueid_2114xUganda              Secondary education   \n",
       "uniqueid_2115xUganda                Primary education   \n",
       "uniqueid_2116xUganda              Secondary education   \n",
       "uniqueid_2117xUganda              Secondary education   \n",
       "\n",
       "                                       job_type  \n",
       "iuniqueid                                        \n",
       "uniqueid_1xKenya                  Self employed  \n",
       "uniqueid_2xKenya           Government Dependent  \n",
       "uniqueid_3xKenya                  Self employed  \n",
       "uniqueid_4xKenya      Formally employed Private  \n",
       "uniqueid_5xKenya            Informally employed  \n",
       "...                                         ...  \n",
       "uniqueid_2113xUganda               Other Income  \n",
       "uniqueid_2114xUganda               Other Income  \n",
       "uniqueid_2115xUganda               Other Income  \n",
       "uniqueid_2116xUganda              Self employed  \n",
       "uniqueid_2117xUganda                  No Income  \n",
       "\n",
       "[23524 rows x 10 columns]"
      ]
     },
     "execution_count": 52,
     "metadata": {},
     "output_type": "execute_result"
    }
   ],
   "source": [
    "new_data"
   ]
  },
  {
   "cell_type": "code",
   "execution_count": 53,
   "metadata": {},
   "outputs": [],
   "source": [
    "#Target Variable\n",
    "new_data['bank_account']=new_data['bank_account'].replace({'Yes':1,'No':0})"
   ]
  },
  {
   "cell_type": "code",
   "execution_count": 54,
   "metadata": {},
   "outputs": [
    {
     "data": {
      "text/plain": [
       "bank_account\n",
       "0    20212\n",
       "1     3312\n",
       "Name: count, dtype: int64"
      ]
     },
     "execution_count": 54,
     "metadata": {},
     "output_type": "execute_result"
    }
   ],
   "source": [
    "new_data['bank_account'].value_counts()"
   ]
  },
  {
   "cell_type": "code",
   "execution_count": 55,
   "metadata": {},
   "outputs": [
    {
     "data": {
      "text/html": [
       "<div>\n",
       "<style scoped>\n",
       "    .dataframe tbody tr th:only-of-type {\n",
       "        vertical-align: middle;\n",
       "    }\n",
       "\n",
       "    .dataframe tbody tr th {\n",
       "        vertical-align: top;\n",
       "    }\n",
       "\n",
       "    .dataframe thead th {\n",
       "        text-align: right;\n",
       "    }\n",
       "</style>\n",
       "<table border=\"1\" class=\"dataframe\">\n",
       "  <thead>\n",
       "    <tr style=\"text-align: right;\">\n",
       "      <th></th>\n",
       "      <th>location_type</th>\n",
       "      <th>cellphone_access</th>\n",
       "      <th>household_size</th>\n",
       "      <th>age_of_respondent</th>\n",
       "      <th>gender_of_respondent</th>\n",
       "      <th>relationship_with_head</th>\n",
       "      <th>marital_status</th>\n",
       "      <th>education_level</th>\n",
       "      <th>job_type</th>\n",
       "      <th>bank_account</th>\n",
       "    </tr>\n",
       "    <tr>\n",
       "      <th>iuniqueid</th>\n",
       "      <th></th>\n",
       "      <th></th>\n",
       "      <th></th>\n",
       "      <th></th>\n",
       "      <th></th>\n",
       "      <th></th>\n",
       "      <th></th>\n",
       "      <th></th>\n",
       "      <th></th>\n",
       "      <th></th>\n",
       "    </tr>\n",
       "  </thead>\n",
       "  <tbody>\n",
       "    <tr>\n",
       "      <th>uniqueid_1xKenya</th>\n",
       "      <td>Rural</td>\n",
       "      <td>Yes</td>\n",
       "      <td>3</td>\n",
       "      <td>24</td>\n",
       "      <td>Female</td>\n",
       "      <td>Spouse</td>\n",
       "      <td>Married/Living together</td>\n",
       "      <td>Secondary education</td>\n",
       "      <td>Self employed</td>\n",
       "      <td>1</td>\n",
       "    </tr>\n",
       "    <tr>\n",
       "      <th>uniqueid_2xKenya</th>\n",
       "      <td>Rural</td>\n",
       "      <td>No</td>\n",
       "      <td>5</td>\n",
       "      <td>70</td>\n",
       "      <td>Female</td>\n",
       "      <td>Head of Household</td>\n",
       "      <td>Widowed</td>\n",
       "      <td>No formal education</td>\n",
       "      <td>Government Dependent</td>\n",
       "      <td>0</td>\n",
       "    </tr>\n",
       "    <tr>\n",
       "      <th>uniqueid_3xKenya</th>\n",
       "      <td>Urban</td>\n",
       "      <td>Yes</td>\n",
       "      <td>5</td>\n",
       "      <td>26</td>\n",
       "      <td>Male</td>\n",
       "      <td>Other relative</td>\n",
       "      <td>Single/Never Married</td>\n",
       "      <td>Vocational/Specialised training</td>\n",
       "      <td>Self employed</td>\n",
       "      <td>1</td>\n",
       "    </tr>\n",
       "    <tr>\n",
       "      <th>uniqueid_4xKenya</th>\n",
       "      <td>Rural</td>\n",
       "      <td>Yes</td>\n",
       "      <td>5</td>\n",
       "      <td>34</td>\n",
       "      <td>Female</td>\n",
       "      <td>Head of Household</td>\n",
       "      <td>Married/Living together</td>\n",
       "      <td>Primary education</td>\n",
       "      <td>Formally employed Private</td>\n",
       "      <td>0</td>\n",
       "    </tr>\n",
       "    <tr>\n",
       "      <th>uniqueid_5xKenya</th>\n",
       "      <td>Urban</td>\n",
       "      <td>No</td>\n",
       "      <td>8</td>\n",
       "      <td>26</td>\n",
       "      <td>Male</td>\n",
       "      <td>Child</td>\n",
       "      <td>Single/Never Married</td>\n",
       "      <td>Primary education</td>\n",
       "      <td>Informally employed</td>\n",
       "      <td>0</td>\n",
       "    </tr>\n",
       "    <tr>\n",
       "      <th>...</th>\n",
       "      <td>...</td>\n",
       "      <td>...</td>\n",
       "      <td>...</td>\n",
       "      <td>...</td>\n",
       "      <td>...</td>\n",
       "      <td>...</td>\n",
       "      <td>...</td>\n",
       "      <td>...</td>\n",
       "      <td>...</td>\n",
       "      <td>...</td>\n",
       "    </tr>\n",
       "    <tr>\n",
       "      <th>uniqueid_2113xUganda</th>\n",
       "      <td>Rural</td>\n",
       "      <td>Yes</td>\n",
       "      <td>4</td>\n",
       "      <td>48</td>\n",
       "      <td>Female</td>\n",
       "      <td>Head of Household</td>\n",
       "      <td>Divorced/Seperated</td>\n",
       "      <td>No formal education</td>\n",
       "      <td>Other Income</td>\n",
       "      <td>0</td>\n",
       "    </tr>\n",
       "    <tr>\n",
       "      <th>uniqueid_2114xUganda</th>\n",
       "      <td>Rural</td>\n",
       "      <td>Yes</td>\n",
       "      <td>2</td>\n",
       "      <td>27</td>\n",
       "      <td>Female</td>\n",
       "      <td>Head of Household</td>\n",
       "      <td>Single/Never Married</td>\n",
       "      <td>Secondary education</td>\n",
       "      <td>Other Income</td>\n",
       "      <td>0</td>\n",
       "    </tr>\n",
       "    <tr>\n",
       "      <th>uniqueid_2115xUganda</th>\n",
       "      <td>Rural</td>\n",
       "      <td>Yes</td>\n",
       "      <td>5</td>\n",
       "      <td>27</td>\n",
       "      <td>Female</td>\n",
       "      <td>Parent</td>\n",
       "      <td>Widowed</td>\n",
       "      <td>Primary education</td>\n",
       "      <td>Other Income</td>\n",
       "      <td>0</td>\n",
       "    </tr>\n",
       "    <tr>\n",
       "      <th>uniqueid_2116xUganda</th>\n",
       "      <td>Urban</td>\n",
       "      <td>Yes</td>\n",
       "      <td>7</td>\n",
       "      <td>30</td>\n",
       "      <td>Female</td>\n",
       "      <td>Parent</td>\n",
       "      <td>Divorced/Seperated</td>\n",
       "      <td>Secondary education</td>\n",
       "      <td>Self employed</td>\n",
       "      <td>0</td>\n",
       "    </tr>\n",
       "    <tr>\n",
       "      <th>uniqueid_2117xUganda</th>\n",
       "      <td>Rural</td>\n",
       "      <td>Yes</td>\n",
       "      <td>10</td>\n",
       "      <td>20</td>\n",
       "      <td>Male</td>\n",
       "      <td>Child</td>\n",
       "      <td>Single/Never Married</td>\n",
       "      <td>Secondary education</td>\n",
       "      <td>No Income</td>\n",
       "      <td>0</td>\n",
       "    </tr>\n",
       "  </tbody>\n",
       "</table>\n",
       "<p>23524 rows × 10 columns</p>\n",
       "</div>"
      ],
      "text/plain": [
       "                     location_type cellphone_access  household_size  \\\n",
       "iuniqueid                                                             \n",
       "uniqueid_1xKenya             Rural              Yes               3   \n",
       "uniqueid_2xKenya             Rural               No               5   \n",
       "uniqueid_3xKenya             Urban              Yes               5   \n",
       "uniqueid_4xKenya             Rural              Yes               5   \n",
       "uniqueid_5xKenya             Urban               No               8   \n",
       "...                            ...              ...             ...   \n",
       "uniqueid_2113xUganda         Rural              Yes               4   \n",
       "uniqueid_2114xUganda         Rural              Yes               2   \n",
       "uniqueid_2115xUganda         Rural              Yes               5   \n",
       "uniqueid_2116xUganda         Urban              Yes               7   \n",
       "uniqueid_2117xUganda         Rural              Yes              10   \n",
       "\n",
       "                      age_of_respondent gender_of_respondent  \\\n",
       "iuniqueid                                                      \n",
       "uniqueid_1xKenya                     24               Female   \n",
       "uniqueid_2xKenya                     70               Female   \n",
       "uniqueid_3xKenya                     26                 Male   \n",
       "uniqueid_4xKenya                     34               Female   \n",
       "uniqueid_5xKenya                     26                 Male   \n",
       "...                                 ...                  ...   \n",
       "uniqueid_2113xUganda                 48               Female   \n",
       "uniqueid_2114xUganda                 27               Female   \n",
       "uniqueid_2115xUganda                 27               Female   \n",
       "uniqueid_2116xUganda                 30               Female   \n",
       "uniqueid_2117xUganda                 20                 Male   \n",
       "\n",
       "                     relationship_with_head           marital_status  \\\n",
       "iuniqueid                                                              \n",
       "uniqueid_1xKenya                     Spouse  Married/Living together   \n",
       "uniqueid_2xKenya          Head of Household                  Widowed   \n",
       "uniqueid_3xKenya             Other relative     Single/Never Married   \n",
       "uniqueid_4xKenya          Head of Household  Married/Living together   \n",
       "uniqueid_5xKenya                      Child     Single/Never Married   \n",
       "...                                     ...                      ...   \n",
       "uniqueid_2113xUganda      Head of Household       Divorced/Seperated   \n",
       "uniqueid_2114xUganda      Head of Household     Single/Never Married   \n",
       "uniqueid_2115xUganda                 Parent                  Widowed   \n",
       "uniqueid_2116xUganda                 Parent       Divorced/Seperated   \n",
       "uniqueid_2117xUganda                  Child     Single/Never Married   \n",
       "\n",
       "                                      education_level  \\\n",
       "iuniqueid                                               \n",
       "uniqueid_1xKenya                  Secondary education   \n",
       "uniqueid_2xKenya                  No formal education   \n",
       "uniqueid_3xKenya      Vocational/Specialised training   \n",
       "uniqueid_4xKenya                    Primary education   \n",
       "uniqueid_5xKenya                    Primary education   \n",
       "...                                               ...   \n",
       "uniqueid_2113xUganda              No formal education   \n",
       "uniqueid_2114xUganda              Secondary education   \n",
       "uniqueid_2115xUganda                Primary education   \n",
       "uniqueid_2116xUganda              Secondary education   \n",
       "uniqueid_2117xUganda              Secondary education   \n",
       "\n",
       "                                       job_type  bank_account  \n",
       "iuniqueid                                                      \n",
       "uniqueid_1xKenya                  Self employed             1  \n",
       "uniqueid_2xKenya           Government Dependent             0  \n",
       "uniqueid_3xKenya                  Self employed             1  \n",
       "uniqueid_4xKenya      Formally employed Private             0  \n",
       "uniqueid_5xKenya            Informally employed             0  \n",
       "...                                         ...           ...  \n",
       "uniqueid_2113xUganda               Other Income             0  \n",
       "uniqueid_2114xUganda               Other Income             0  \n",
       "uniqueid_2115xUganda               Other Income             0  \n",
       "uniqueid_2116xUganda              Self employed             0  \n",
       "uniqueid_2117xUganda                  No Income             0  \n",
       "\n",
       "[23524 rows x 10 columns]"
      ]
     },
     "execution_count": 55,
     "metadata": {},
     "output_type": "execute_result"
    }
   ],
   "source": [
    "column='bank_account'\n",
    "column_order=[col for col in new_data.columns if col != column] + [column]\n",
    "new_data[column_order]"
   ]
  },
  {
   "cell_type": "code",
   "execution_count": 56,
   "metadata": {},
   "outputs": [
    {
     "data": {
      "text/plain": [
       "5310"
      ]
     },
     "execution_count": 56,
     "metadata": {},
     "output_type": "execute_result"
    }
   ],
   "source": [
    "new_data.duplicated().sum()"
   ]
  },
  {
   "cell_type": "code",
   "execution_count": 57,
   "metadata": {},
   "outputs": [
    {
     "data": {
      "text/plain": [
       "Index(['bank_account', 'location_type', 'cellphone_access', 'household_size',\n",
       "       'age_of_respondent', 'gender_of_respondent', 'relationship_with_head',\n",
       "       'marital_status', 'education_level', 'job_type'],\n",
       "      dtype='object')"
      ]
     },
     "execution_count": 57,
     "metadata": {},
     "output_type": "execute_result"
    }
   ],
   "source": [
    "new_data.columns"
   ]
  },
  {
   "cell_type": "code",
   "execution_count": 58,
   "metadata": {},
   "outputs": [],
   "source": [
    "train_data=new_data"
   ]
  },
  {
   "cell_type": "code",
   "execution_count": 59,
   "metadata": {},
   "outputs": [],
   "source": [
    "numerical_columns = new_data.select_dtypes(include=['float64', 'int64']).columns\n",
    "categorical_columns = new_data.select_dtypes(include=['object']).columns\n"
   ]
  },
  {
   "cell_type": "code",
   "execution_count": 60,
   "metadata": {},
   "outputs": [],
   "source": [
    "correlation_numerical = new_data[numerical_columns].corr()['bank_account']\n"
   ]
  },
  {
   "cell_type": "code",
   "execution_count": 61,
   "metadata": {},
   "outputs": [],
   "source": [
    "from sklearn.preprocessing import LabelEncoder\n",
    "\n",
    "label_encoder = LabelEncoder()\n",
    "\n",
    "for column in categorical_columns:\n",
    "    new_data[column] = label_encoder.fit_transform(new_data[column])\n"
   ]
  },
  {
   "cell_type": "code",
   "execution_count": 62,
   "metadata": {},
   "outputs": [],
   "source": [
    "from scipy.stats import pointbiserialr\n",
    "correlation_categorical = [pointbiserialr(new_data[feature], new_data['bank_account'])[0] for feature in categorical_columns]\n"
   ]
  },
  {
   "cell_type": "code",
   "execution_count": 63,
   "metadata": {},
   "outputs": [],
   "source": [
    "correlation_results = pd.concat([correlation_numerical, pd.Series(correlation_categorical, index=categorical_columns)])\n"
   ]
  },
  {
   "cell_type": "code",
   "execution_count": 64,
   "metadata": {},
   "outputs": [
    {
     "data": {
      "image/png": "[encoded data removed]",
      "text/plain": [
       "<Figure size 1200x600 with 1 Axes>"
      ]
     },
     "metadata": {},
     "output_type": "display_data"
    }
   ],
   "source": [
    "import seaborn as sns\n",
    "import matplotlib.pyplot as plt\n",
    "\n",
    "plt.figure(figsize=(12, 6))\n",
    "sns.barplot(x=correlation_results.index, y=correlation_results.values)\n",
    "plt.xticks(rotation=45, ha='right')\n",
    "plt.title(\"Correlation with Target Variable ('bank_account')\")\n",
    "plt.show()\n"
   ]
  },
  {
   "cell_type": "code",
   "execution_count": 65,
   "metadata": {},
   "outputs": [
    {
     "data": {
      "text/html": [
       "<div>\n",
       "<style scoped>\n",
       "    .dataframe tbody tr th:only-of-type {\n",
       "        vertical-align: middle;\n",
       "    }\n",
       "\n",
       "    .dataframe tbody tr th {\n",
       "        vertical-align: top;\n",
       "    }\n",
       "\n",
       "    .dataframe thead th {\n",
       "        text-align: right;\n",
       "    }\n",
       "</style>\n",
       "<table border=\"1\" class=\"dataframe\">\n",
       "  <thead>\n",
       "    <tr style=\"text-align: right;\">\n",
       "      <th></th>\n",
       "      <th>bank_account</th>\n",
       "      <th>location_type</th>\n",
       "      <th>cellphone_access</th>\n",
       "      <th>household_size</th>\n",
       "      <th>age_of_respondent</th>\n",
       "      <th>gender_of_respondent</th>\n",
       "      <th>relationship_with_head</th>\n",
       "      <th>marital_status</th>\n",
       "      <th>education_level</th>\n",
       "      <th>job_type</th>\n",
       "    </tr>\n",
       "    <tr>\n",
       "      <th>iuniqueid</th>\n",
       "      <th></th>\n",
       "      <th></th>\n",
       "      <th></th>\n",
       "      <th></th>\n",
       "      <th></th>\n",
       "      <th></th>\n",
       "      <th></th>\n",
       "      <th></th>\n",
       "      <th></th>\n",
       "      <th></th>\n",
       "    </tr>\n",
       "  </thead>\n",
       "  <tbody>\n",
       "    <tr>\n",
       "      <th>uniqueid_1xKenya</th>\n",
       "      <td>1</td>\n",
       "      <td>0</td>\n",
       "      <td>1</td>\n",
       "      <td>3</td>\n",
       "      <td>24</td>\n",
       "      <td>0</td>\n",
       "      <td>5</td>\n",
       "      <td>2</td>\n",
       "      <td>3</td>\n",
       "      <td>9</td>\n",
       "    </tr>\n",
       "    <tr>\n",
       "      <th>uniqueid_2xKenya</th>\n",
       "      <td>0</td>\n",
       "      <td>0</td>\n",
       "      <td>0</td>\n",
       "      <td>5</td>\n",
       "      <td>70</td>\n",
       "      <td>0</td>\n",
       "      <td>1</td>\n",
       "      <td>4</td>\n",
       "      <td>0</td>\n",
       "      <td>4</td>\n",
       "    </tr>\n",
       "    <tr>\n",
       "      <th>uniqueid_3xKenya</th>\n",
       "      <td>1</td>\n",
       "      <td>1</td>\n",
       "      <td>1</td>\n",
       "      <td>5</td>\n",
       "      <td>26</td>\n",
       "      <td>1</td>\n",
       "      <td>3</td>\n",
       "      <td>3</td>\n",
       "      <td>5</td>\n",
       "      <td>9</td>\n",
       "    </tr>\n",
       "    <tr>\n",
       "      <th>uniqueid_4xKenya</th>\n",
       "      <td>0</td>\n",
       "      <td>0</td>\n",
       "      <td>1</td>\n",
       "      <td>5</td>\n",
       "      <td>34</td>\n",
       "      <td>0</td>\n",
       "      <td>1</td>\n",
       "      <td>2</td>\n",
       "      <td>2</td>\n",
       "      <td>3</td>\n",
       "    </tr>\n",
       "    <tr>\n",
       "      <th>uniqueid_5xKenya</th>\n",
       "      <td>0</td>\n",
       "      <td>1</td>\n",
       "      <td>0</td>\n",
       "      <td>8</td>\n",
       "      <td>26</td>\n",
       "      <td>1</td>\n",
       "      <td>0</td>\n",
       "      <td>3</td>\n",
       "      <td>2</td>\n",
       "      <td>5</td>\n",
       "    </tr>\n",
       "    <tr>\n",
       "      <th>...</th>\n",
       "      <td>...</td>\n",
       "      <td>...</td>\n",
       "      <td>...</td>\n",
       "      <td>...</td>\n",
       "      <td>...</td>\n",
       "      <td>...</td>\n",
       "      <td>...</td>\n",
       "      <td>...</td>\n",
       "      <td>...</td>\n",
       "      <td>...</td>\n",
       "    </tr>\n",
       "    <tr>\n",
       "      <th>uniqueid_2113xUganda</th>\n",
       "      <td>0</td>\n",
       "      <td>0</td>\n",
       "      <td>1</td>\n",
       "      <td>4</td>\n",
       "      <td>48</td>\n",
       "      <td>0</td>\n",
       "      <td>1</td>\n",
       "      <td>0</td>\n",
       "      <td>0</td>\n",
       "      <td>7</td>\n",
       "    </tr>\n",
       "    <tr>\n",
       "      <th>uniqueid_2114xUganda</th>\n",
       "      <td>0</td>\n",
       "      <td>0</td>\n",
       "      <td>1</td>\n",
       "      <td>2</td>\n",
       "      <td>27</td>\n",
       "      <td>0</td>\n",
       "      <td>1</td>\n",
       "      <td>3</td>\n",
       "      <td>3</td>\n",
       "      <td>7</td>\n",
       "    </tr>\n",
       "    <tr>\n",
       "      <th>uniqueid_2115xUganda</th>\n",
       "      <td>0</td>\n",
       "      <td>0</td>\n",
       "      <td>1</td>\n",
       "      <td>5</td>\n",
       "      <td>27</td>\n",
       "      <td>0</td>\n",
       "      <td>4</td>\n",
       "      <td>4</td>\n",
       "      <td>2</td>\n",
       "      <td>7</td>\n",
       "    </tr>\n",
       "    <tr>\n",
       "      <th>uniqueid_2116xUganda</th>\n",
       "      <td>0</td>\n",
       "      <td>1</td>\n",
       "      <td>1</td>\n",
       "      <td>7</td>\n",
       "      <td>30</td>\n",
       "      <td>0</td>\n",
       "      <td>4</td>\n",
       "      <td>0</td>\n",
       "      <td>3</td>\n",
       "      <td>9</td>\n",
       "    </tr>\n",
       "    <tr>\n",
       "      <th>uniqueid_2117xUganda</th>\n",
       "      <td>0</td>\n",
       "      <td>0</td>\n",
       "      <td>1</td>\n",
       "      <td>10</td>\n",
       "      <td>20</td>\n",
       "      <td>1</td>\n",
       "      <td>0</td>\n",
       "      <td>3</td>\n",
       "      <td>3</td>\n",
       "      <td>6</td>\n",
       "    </tr>\n",
       "  </tbody>\n",
       "</table>\n",
       "<p>23524 rows × 10 columns</p>\n",
       "</div>"
      ],
      "text/plain": [
       "                      bank_account  location_type  cellphone_access  \\\n",
       "iuniqueid                                                             \n",
       "uniqueid_1xKenya                 1              0                 1   \n",
       "uniqueid_2xKenya                 0              0                 0   \n",
       "uniqueid_3xKenya                 1              1                 1   \n",
       "uniqueid_4xKenya                 0              0                 1   \n",
       "uniqueid_5xKenya                 0              1                 0   \n",
       "...                            ...            ...               ...   \n",
       "uniqueid_2113xUganda             0              0                 1   \n",
       "uniqueid_2114xUganda             0              0                 1   \n",
       "uniqueid_2115xUganda             0              0                 1   \n",
       "uniqueid_2116xUganda             0              1                 1   \n",
       "uniqueid_2117xUganda             0              0                 1   \n",
       "\n",
       "                      household_size  age_of_respondent  gender_of_respondent  \\\n",
       "iuniqueid                                                                       \n",
       "uniqueid_1xKenya                   3                 24                     0   \n",
       "uniqueid_2xKenya                   5                 70                     0   \n",
       "uniqueid_3xKenya                   5                 26                     1   \n",
       "uniqueid_4xKenya                   5                 34                     0   \n",
       "uniqueid_5xKenya                   8                 26                     1   \n",
       "...                              ...                ...                   ...   \n",
       "uniqueid_2113xUganda               4                 48                     0   \n",
       "uniqueid_2114xUganda               2                 27                     0   \n",
       "uniqueid_2115xUganda               5                 27                     0   \n",
       "uniqueid_2116xUganda               7                 30                     0   \n",
       "uniqueid_2117xUganda              10                 20                     1   \n",
       "\n",
       "                      relationship_with_head  marital_status  education_level  \\\n",
       "iuniqueid                                                                       \n",
       "uniqueid_1xKenya                           5               2                3   \n",
       "uniqueid_2xKenya                           1               4                0   \n",
       "uniqueid_3xKenya                           3               3                5   \n",
       "uniqueid_4xKenya                           1               2                2   \n",
       "uniqueid_5xKenya                           0               3                2   \n",
       "...                                      ...             ...              ...   \n",
       "uniqueid_2113xUganda                       1               0                0   \n",
       "uniqueid_2114xUganda                       1               3                3   \n",
       "uniqueid_2115xUganda                       4               4                2   \n",
       "uniqueid_2116xUganda                       4               0                3   \n",
       "uniqueid_2117xUganda                       0               3                3   \n",
       "\n",
       "                      job_type  \n",
       "iuniqueid                       \n",
       "uniqueid_1xKenya             9  \n",
       "uniqueid_2xKenya             4  \n",
       "uniqueid_3xKenya             9  \n",
       "uniqueid_4xKenya             3  \n",
       "uniqueid_5xKenya             5  \n",
       "...                        ...  \n",
       "uniqueid_2113xUganda         7  \n",
       "uniqueid_2114xUganda         7  \n",
       "uniqueid_2115xUganda         7  \n",
       "uniqueid_2116xUganda         9  \n",
       "uniqueid_2117xUganda         6  \n",
       "\n",
       "[23524 rows x 10 columns]"
      ]
     },
     "execution_count": 65,
     "metadata": {},
     "output_type": "execute_result"
    }
   ],
   "source": [
    "new_data"
   ]
  },
  {
   "cell_type": "code",
   "execution_count": 66,
   "metadata": {},
   "outputs": [],
   "source": [
    "X=train_data.drop('bank_account', axis=1)\n",
    "y=train_data['bank_account']"
   ]
  },
  {
   "cell_type": "code",
   "execution_count": 67,
   "metadata": {},
   "outputs": [],
   "source": [
    "from sklearn.model_selection import train_test_split\n",
    "X_train,X_test,y_train,y_test=train_test_split(X,y,test_size=0.25,random_state=42)"
   ]
  },
  {
   "cell_type": "code",
   "execution_count": 68,
   "metadata": {},
   "outputs": [],
   "source": [
    "from sklearn.linear_model import LogisticRegression\n",
    "from sklearn.metrics import accuracy_score\n",
    "logred_model=LogisticRegression(max_iter=1000,random_state=42)\n",
    "logred_model.fit(X_train,y_train)\n",
    "#make predictions\n",
    "y_pred=logred_model.predict(X_test)"
   ]
  },
  {
   "cell_type": "code",
   "execution_count": 69,
   "metadata": {},
   "outputs": [
    {
     "name": "stdout",
     "output_type": "stream",
     "text": [
      "Accuracy:87.62%\n"
     ]
    }
   ],
   "source": [
    "#Evaluate the model\n",
    "accuracy=accuracy_score(y_test,y_pred)\n",
    "print(f'Accuracy:{accuracy*100:.2f}%')"
   ]
  },
  {
   "cell_type": "code",
   "execution_count": 70,
   "metadata": {},
   "outputs": [
    {
     "name": "stdout",
     "output_type": "stream",
     "text": [
      "Accuracy: 88.88%\n"
     ]
    }
   ],
   "source": [
    "from xgboost import XGBClassifier\n",
    "# Step 2: Initialize the XGBoost classifier\n",
    "xgb_model = XGBClassifier(learning_rate=0.1, n_estimators=100, max_depth=3, random_state=42)\n",
    "\n",
    "# Step 3: Train the model\n",
    "xgb_model.fit(X_train, y_train)\n",
    "\n",
    "# Step 4: Make predictions on the test set\n",
    "y_pred = xgb_model.predict(X_test)\n",
    "\n",
    "# Step 5: Evaluate the model's performance\n",
    "accuracy = accuracy_score(y_test, y_pred)\n",
    "print(f'Accuracy: {accuracy * 100:.2f}%')\n",
    "\n"
   ]
  },
  {
   "cell_type": "markdown",
   "metadata": {},
   "source": [
    "## Machine Learning Models\n"
   ]
  },
  {
   "cell_type": "code",
   "execution_count": 71,
   "metadata": {},
   "outputs": [],
   "source": [
    "from sklearn.model_selection import train_test_split"
   ]
  },
  {
   "cell_type": "code",
   "execution_count": 72,
   "metadata": {},
   "outputs": [],
   "source": [
    "X=new_data.drop('bank_account', axis=1)\n",
    "y=new_data['bank_account']"
   ]
  },
  {
   "cell_type": "code",
   "execution_count": 73,
   "metadata": {},
   "outputs": [],
   "source": [
    "X_train,X_test,y_train,y_test=train_test_split(X,y,test_size=0.25,random_state=42)"
   ]
  },
  {
   "cell_type": "code",
   "execution_count": 74,
   "metadata": {},
   "outputs": [
    {
     "data": {
      "text/plain": [
       "Index(['location_type', 'cellphone_access', 'household_size',\n",
       "       'age_of_respondent', 'gender_of_respondent', 'relationship_with_head',\n",
       "       'marital_status', 'education_level', 'job_type'],\n",
       "      dtype='object')"
      ]
     },
     "execution_count": 74,
     "metadata": {},
     "output_type": "execute_result"
    }
   ],
   "source": [
    "X.columns"
   ]
  },
  {
   "cell_type": "code",
   "execution_count": 75,
   "metadata": {},
   "outputs": [],
   "source": [
    "high_cardiniallity_categorical_columns=[ 'relationship_with_head',\n",
    "       'marital_status', 'education_level', 'job_type','location_type','cellphone_access','gender_of_respondent']\n",
    "numerical_columns=['household_size','age_of_respondent']"
   ]
  },
  {
   "cell_type": "code",
   "execution_count": 76,
   "metadata": {},
   "outputs": [],
   "source": [
    "%store -r new_test_data"
   ]
  },
  {
   "cell_type": "code",
   "execution_count": 77,
   "metadata": {},
   "outputs": [],
   "source": [
    "from sklearn.preprocessing import LabelEncoder, OneHotEncoder, StandardScaler\n",
    "#Encoding ordinal categorical columns\n",
    "    \n",
    "    \n",
    "#Encoding high cardiniallity categorical columns\n",
    "X_train=pd.get_dummies(X_train,columns=high_cardiniallity_categorical_columns, drop_first=True)\n",
    "X_test=pd.get_dummies(X_test,columns=high_cardiniallity_categorical_columns,drop_first=True)\n",
    "\n",
    "\n",
    "#Scaling numerical columns\n",
    "scaler=StandardScaler()\n",
    "X_train[numerical_columns]=scaler.fit_transform(X_train[numerical_columns])\n",
    "X_test[numerical_columns]=scaler.transform(X_test[numerical_columns])\n",
    "\n",
    "\n"
   ]
  },
  {
   "cell_type": "code",
   "execution_count": 78,
   "metadata": {},
   "outputs": [],
   "source": [
    "# Save transformers\n",
    "scaler_filename = 'scaler.joblib'"
   ]
  },
  {
   "cell_type": "code",
   "execution_count": 79,
   "metadata": {},
   "outputs": [
    {
     "data": {
      "text/plain": [
       "['scaler.joblib']"
      ]
     },
     "execution_count": 79,
     "metadata": {},
     "output_type": "execute_result"
    }
   ],
   "source": [
    "import joblib\n",
    "joblib.dump(scaler, scaler_filename)"
   ]
  },
  {
   "cell_type": "code",
   "execution_count": 80,
   "metadata": {},
   "outputs": [],
   "source": [
    "from sklearn.linear_model import LogisticRegression\n",
    "from sklearn.metrics import accuracy_score\n",
    "logred_model=LogisticRegression(max_iter=1000,random_state=42)\n",
    "logred_model.fit(X_train,y_train)\n",
    "#make predictions\n",
    "y_pred=logred_model.predict(X_test)"
   ]
  },
  {
   "cell_type": "code",
   "execution_count": 81,
   "metadata": {},
   "outputs": [
    {
     "name": "stdout",
     "output_type": "stream",
     "text": [
      "Accuracy:88.59%\n"
     ]
    }
   ],
   "source": [
    "#Evaluate the model\n",
    "accuracy=accuracy_score(y_test,y_pred)\n",
    "print(f'Accuracy:{accuracy*100:.2f}%')"
   ]
  },
  {
   "cell_type": "code",
   "execution_count": 82,
   "metadata": {},
   "outputs": [],
   "source": [
    "from sklearn.model_selection import train_test_split\n",
    "from sklearn.linear_model import LogisticRegression\n",
    "from sklearn.feature_selection import SelectFromModel\n",
    "from sklearn.preprocessing import StandardScaler\n",
    "from sklearn.metrics import accuracy_score, classification_report, confusion_matrix\n",
    "\n",
    "# Use feature selection to identify important features\n",
    "\n",
    "model = LogisticRegression(max_iter=1000,random_state=42)\n",
    "sfm = SelectFromModel(model)\n",
    "sfm.fit(X_train, y_train)\n",
    "\n",
    "# Transform the features based on feature selection\n",
    "X_train_selected = sfm.transform(X_train)\n",
    "X_test_selected = sfm.transform(X_test)\n",
    "\n"
   ]
  },
  {
   "cell_type": "markdown",
   "metadata": {},
   "source": [
    "Perform Optimal Cutoff Point"
   ]
  },
  {
   "cell_type": "code",
   "execution_count": 83,
   "metadata": {},
   "outputs": [
    {
     "name": "stdout",
     "output_type": "stream",
     "text": [
      "Optimal Cutoff point0.1421\n"
     ]
    }
   ],
   "source": [
    "from sklearn.metrics import roc_curve, auc\n",
    "#Optimal probability cutoff point\n",
    "y_probs=logred_model.predict_proba(X_test)[:,1]\n",
    "#calculate the ROC curve\n",
    "fpr,tpr,thresholds=roc_curve(y_test,y_probs)\n",
    "#Optimal Cutoff using Youden Index\n",
    "optimal_index=(tpr-fpr).argmax()\n",
    "optimal_cutoff=thresholds[optimal_index]\n",
    "#find optimal cutoff point\n",
    "print(f'Optimal Cutoff point{optimal_cutoff:.4F}')"
   ]
  },
  {
   "cell_type": "code",
   "execution_count": 84,
   "metadata": {},
   "outputs": [
    {
     "name": "stdout",
     "output_type": "stream",
     "text": [
      "Accuracy at Optimal Cutoff: 77.57%\n"
     ]
    }
   ],
   "source": [
    "#Evaluate model using optimal cutoff point\n",
    "y_pred_optimally=(y_probs >= optimal_cutoff).astype(int)\n",
    "accuracy_optimal=accuracy_score(y_test,y_pred_optimally)\n",
    "print(f'Accuracy at Optimal Cutoff: {accuracy_optimal * 100:.2f}%')"
   ]
  },
  {
   "cell_type": "markdown",
   "metadata": {},
   "source": [
    "Hyperparameter tuning"
   ]
  },
  {
   "cell_type": "code",
   "execution_count": 85,
   "metadata": {},
   "outputs": [
    {
     "name": "stdout",
     "output_type": "stream",
     "text": [
      "Best Hyperparameters: {'solver': 'liblinear', 'penalty': 'l2', 'C': 10}\n"
     ]
    }
   ],
   "source": [
    "from sklearn.model_selection import RandomizedSearchCV\n",
    "#Define parameter distribution \n",
    "param_dist={\n",
    "    'C':[0.001,0.01,0.1,1,10,100],#regularization_strenght\n",
    "    'penalty':['l1','l2'],#penalty type\n",
    "    'solver':['liblinear','saga']#solver type\n",
    "}\n",
    "log_model=LogisticRegression(max_iter=100,random_state=42)\n",
    "\n",
    "#perform randomizedSearch with cross validation\n",
    "randomized_search=RandomizedSearchCV(log_model,param_dist,n_iter=10,cv=5,scoring='accuracy',n_jobs=-1,random_state=42)\n",
    "randomized_search.fit(X_train,y_train)\n",
    "\n",
    "#Get the best hyperparameters\n",
    "best_params=randomized_search.best_params_\n",
    "\n",
    "#Print the best hyperparameters\n",
    "print(f'Best Hyperparameters: {best_params}')\n"
   ]
  },
  {
   "cell_type": "code",
   "execution_count": 86,
   "metadata": {},
   "outputs": [
    {
     "name": "stdout",
     "output_type": "stream",
     "text": [
      "Accuracy: 88.59%\n"
     ]
    }
   ],
   "source": [
    "#use the best model to make predictions\n",
    "best_model=randomized_search.best_estimator_\n",
    "pred=best_model.predict(X_test)\n",
    "\n",
    "# Step 8: Evaluate the model's performance\n",
    "accuracy = accuracy_score(y_test, y_pred)\n",
    "print(f'Accuracy: {accuracy * 100:.2f}%')"
   ]
  },
  {
   "cell_type": "code",
   "execution_count": 87,
   "metadata": {},
   "outputs": [
    {
     "name": "stdout",
     "output_type": "stream",
     "text": [
      "Cross-Validation Scores: [0.88183621 0.88098612 0.88381978 0.87868481 0.89058957]\n",
      "Average Accuracy: 0.8831832969326392\n"
     ]
    }
   ],
   "source": [
    "from sklearn.model_selection import cross_val_score\n",
    "\n",
    "# Assuming X_train and y_train are your training data\n",
    "logred_model = LogisticRegression(max_iter=1000, random_state=42)\n",
    "\n",
    "# Perform cross-validation\n",
    "cv_scores = cross_val_score(logred_model, X_train, y_train, cv=5, scoring='accuracy')\n",
    "\n",
    "# Print the cross-validation scores\n",
    "print(\"Cross-Validation Scores:\", cv_scores)\n",
    "\n",
    "# Print the average cross-validation accuracy\n",
    "print(\"Average Accuracy:\", cv_scores.mean())\n"
   ]
  },
  {
   "cell_type": "code",
   "execution_count": 88,
   "metadata": {},
   "outputs": [],
   "source": [
    "from sklearn.ensemble import BaggingClassifier\n",
    "from sklearn.linear_model import LogisticRegression\n",
    "\n",
    "# Create a base logistic regression model\n",
    "base_model = LogisticRegression(max_iter=1000)\n",
    "\n",
    "# Create a BaggingClassifier with logistic regression as the base model\n",
    "bagging_model = BaggingClassifier(base_model, n_estimators=10, random_state=42)\n",
    "\n",
    "# Train the bagging model on your training data\n",
    "bagging_model.fit(X_train, y_train)\n",
    "\n",
    "# Make predictions on the test set\n",
    "predictions = bagging_model.predict(X_test)\n"
   ]
  },
  {
   "cell_type": "code",
   "execution_count": 89,
   "metadata": {},
   "outputs": [
    {
     "name": "stdout",
     "output_type": "stream",
     "text": [
      "Accuracy: 0.8862\n"
     ]
    }
   ],
   "source": [
    "from sklearn.metrics import accuracy_score\n",
    "\n",
    "# Assuming you have already trained the bagging_model\n",
    "# and made predictions on the test set (as shown in the previous example)\n",
    "\n",
    "# Calculate accuracy\n",
    "accuracy = accuracy_score(y_test, predictions)\n",
    "\n",
    "print(f\"Accuracy: {accuracy:.4f}\")\n"
   ]
  },
  {
   "cell_type": "code",
   "execution_count": 90,
   "metadata": {},
   "outputs": [
    {
     "name": "stdout",
     "output_type": "stream",
     "text": [
      "Accuracy: 88.88%\n"
     ]
    }
   ],
   "source": [
    "from xgboost import XGBClassifier\n",
    "# Step 2: Initialize the XGBoost classifier\n",
    "xgb_model = XGBClassifier(learning_rate=0.1, n_estimators=100, max_depth=3, random_state=42)\n",
    "\n",
    "# Step 3: Train the model\n",
    "xgb_model.fit(X_train, y_train)\n",
    "\n",
    "# Step 4: Make predictions on the test set\n",
    "y_pred = xgb_model.predict(X_test)\n",
    "\n",
    "# Step 5: Evaluate the model's performance\n",
    "accuracy = accuracy_score(y_test, y_pred)\n",
    "print(f'Accuracy: {accuracy * 100:.2f}%')\n",
    "\n"
   ]
  },
  {
   "cell_type": "code",
   "execution_count": 91,
   "metadata": {},
   "outputs": [
    {
     "data": {
      "image/png": "[encoded data removed]",
      "text/plain": [
       "<Figure size 1000x600 with 1 Axes>"
      ]
     },
     "metadata": {},
     "output_type": "display_data"
    },
    {
     "name": "stdout",
     "output_type": "stream",
     "text": [
      "                     Feature  Importance\n",
      "18                job_type_3    0.177268\n",
      "26        cellphone_access_1    0.172477\n",
      "17                job_type_2    0.107512\n",
      "15         education_level_5    0.076609\n",
      "14         education_level_4    0.073185\n",
      "..                       ...         ...\n",
      "23                job_type_8    0.005011\n",
      "0             household_size    0.004867\n",
      "10          marital_status_4    0.003778\n",
      "7           marital_status_1    0.000000\n",
      "4   relationship_with_head_3    0.000000\n",
      "\n",
      "[28 rows x 2 columns]\n"
     ]
    }
   ],
   "source": [
    "from xgboost import XGBClassifier\n",
    "import matplotlib.pyplot as plt\n",
    "import seaborn as sns\n",
    "import numpy as np\n",
    "\n",
    "# Assuming you have already trained your XGBoost model (xgb_model) and have your feature names\n",
    "# If not, you can train it as per your initial code\n",
    "\n",
    "# Step 1: Get feature importance scores\n",
    "feature_importance = xgb_model.feature_importances_\n",
    "\n",
    "# Step 2: Get the corresponding feature names\n",
    "feature_names = X_train.columns  # Assuming your features are in a DataFrame\n",
    "\n",
    "# Step 3: Create a DataFrame to store feature names and their importance scores\n",
    "feature_importance_df = pd.DataFrame({'Feature': feature_names, 'Importance': feature_importance})\n",
    "\n",
    "# Step 4: Sort the features based on their importance scores\n",
    "feature_importance_df = feature_importance_df.sort_values(by='Importance', ascending=False)\n",
    "\n",
    "# Step 5: Plot the feature importance\n",
    "plt.figure(figsize=(10, 6))\n",
    "sns.barplot(x='Importance', y='Feature', data=feature_importance_df, palette='viridis')\n",
    "plt.title('XGBoost Feature Importance')\n",
    "plt.show()\n",
    "\n",
    "# Optionally, you can print the feature importance scores for more detailed analysis\n",
    "print(feature_importance_df)\n"
   ]
  },
  {
   "cell_type": "code",
   "execution_count": 92,
   "metadata": {},
   "outputs": [
    {
     "name": "stdout",
     "output_type": "stream",
     "text": [
      "Accuracy with reduced features: 88.56%\n"
     ]
    }
   ],
   "source": [
    "# Select the top N features based on importance\n",
    "top_features = feature_importance_df['Feature'].head(10).tolist()\n",
    "\n",
    "# Subset the original dataset\n",
    "X_train_reduced = X_train[top_features]\n",
    "X_test_reduced = X_test[top_features]\n",
    "\n",
    "# Initialize a new XGBoost model\n",
    "xgb_model_reduced = XGBClassifier(learning_rate=0.1, n_estimators=100, max_depth=3, random_state=42)\n",
    "\n",
    "# Train the model on the reduced feature set\n",
    "xgb_model_reduced.fit(X_train_reduced, y_train)\n",
    "\n",
    "# Make predictions and evaluate performance\n",
    "y_pred_reduced = xgb_model_reduced.predict(X_test_reduced)\n",
    "accuracy_reduced = accuracy_score(y_test, y_pred_reduced)\n",
    "\n",
    "print(f'Accuracy with reduced features: {accuracy_reduced * 100:.2f}%')\n"
   ]
  },
  {
   "cell_type": "code",
   "execution_count": 93,
   "metadata": {},
   "outputs": [
    {
     "name": "stdout",
     "output_type": "stream",
     "text": [
      "Ensemble Accuracy: 0.88896446182622\n"
     ]
    }
   ],
   "source": [
    "hyperparameter_configs = [\n",
    "    {'learning_rate': 0.1, 'max_depth': 3, 'n_estimators': 100},\n",
    "    {'learning_rate': 0.05, 'max_depth': 5, 'n_estimators': 150},\n",
    "    {'learning_rate': 0.2, 'max_depth': 4, 'n_estimators': 120},\n",
    "]\n",
    "xgb_models = []\n",
    "\n",
    "for config in hyperparameter_configs:\n",
    "    model = XGBClassifier(**config)\n",
    "    model.fit(X_train, y_train)\n",
    "    xgb_models.append(model)\n",
    "def ensemble_predict(models, X):\n",
    "    predictions = np.column_stack([model.predict_proba(X)[:, 1] for model in models])\n",
    "    return np.mean(predictions, axis=1)\n",
    "\n",
    "# Example usage for the test set\n",
    "ensemble_predictions = ensemble_predict(xgb_models, X_test)\n",
    "ensemble_accuracy = accuracy_score(y_test, (ensemble_predictions > 0.5).astype(int))\n",
    "print(f'Ensemble Accuracy: {ensemble_accuracy}')\n"
   ]
  },
  {
   "cell_type": "code",
   "execution_count": 94,
   "metadata": {},
   "outputs": [
    {
     "name": "stdout",
     "output_type": "stream",
     "text": [
      "[0]\tvalidation_0-error:0.14176\tvalidation_1-error:0.13790\n",
      "[1]\tvalidation_0-error:0.14176\tvalidation_1-error:0.13790\n",
      "[2]\tvalidation_0-error:0.14176\tvalidation_1-error:0.13790\n",
      "[3]\tvalidation_0-error:0.14176\tvalidation_1-error:0.13790\n",
      "[4]\tvalidation_0-error:0.14176\tvalidation_1-error:0.13790\n",
      "[5]\tvalidation_0-error:0.14176\tvalidation_1-error:0.13790\n",
      "[6]\tvalidation_0-error:0.13858\tvalidation_1-error:0.13382\n",
      "[7]\tvalidation_0-error:0.13660\tvalidation_1-error:0.13110\n",
      "[8]\tvalidation_0-error:0.12985\tvalidation_1-error:0.12464\n",
      "[9]\tvalidation_0-error:0.12538\tvalidation_1-error:0.12039\n",
      "[10]\tvalidation_0-error:0.12504\tvalidation_1-error:0.11954\n",
      "[11]\tvalidation_0-error:0.12487\tvalidation_1-error:0.11937\n",
      "[12]\tvalidation_0-error:0.12458\tvalidation_1-error:0.11937\n",
      "[13]\tvalidation_0-error:0.12322\tvalidation_1-error:0.11903\n",
      "[14]\tvalidation_0-error:0.12316\tvalidation_1-error:0.11886\n",
      "[15]\tvalidation_0-error:0.12118\tvalidation_1-error:0.11835\n",
      "[16]\tvalidation_0-error:0.12118\tvalidation_1-error:0.11818\n",
      "[17]\tvalidation_0-error:0.12112\tvalidation_1-error:0.11818\n",
      "[18]\tvalidation_0-error:0.12101\tvalidation_1-error:0.11835\n",
      "[19]\tvalidation_0-error:0.12050\tvalidation_1-error:0.11818\n",
      "[20]\tvalidation_0-error:0.12050\tvalidation_1-error:0.11767\n",
      "[21]\tvalidation_0-error:0.12050\tvalidation_1-error:0.11767\n",
      "[22]\tvalidation_0-error:0.12095\tvalidation_1-error:0.11682\n",
      "[23]\tvalidation_0-error:0.12061\tvalidation_1-error:0.11699\n",
      "[24]\tvalidation_0-error:0.12044\tvalidation_1-error:0.11682\n",
      "[25]\tvalidation_0-error:0.12044\tvalidation_1-error:0.11699\n",
      "[26]\tvalidation_0-error:0.12039\tvalidation_1-error:0.11699\n",
      "[27]\tvalidation_0-error:0.12039\tvalidation_1-error:0.11682\n",
      "[28]\tvalidation_0-error:0.11982\tvalidation_1-error:0.11614\n",
      "[29]\tvalidation_0-error:0.11948\tvalidation_1-error:0.11563\n",
      "[30]\tvalidation_0-error:0.11897\tvalidation_1-error:0.11512\n",
      "[31]\tvalidation_0-error:0.11886\tvalidation_1-error:0.11563\n",
      "[32]\tvalidation_0-error:0.11829\tvalidation_1-error:0.11597\n",
      "[33]\tvalidation_0-error:0.11835\tvalidation_1-error:0.11614\n",
      "[34]\tvalidation_0-error:0.11840\tvalidation_1-error:0.11597\n",
      "[35]\tvalidation_0-error:0.11852\tvalidation_1-error:0.11597\n",
      "[36]\tvalidation_0-error:0.11812\tvalidation_1-error:0.11563\n",
      "[37]\tvalidation_0-error:0.11755\tvalidation_1-error:0.11546\n",
      "[38]\tvalidation_0-error:0.11744\tvalidation_1-error:0.11512\n",
      "[39]\tvalidation_0-error:0.11733\tvalidation_1-error:0.11478\n",
      "[40]\tvalidation_0-error:0.11682\tvalidation_1-error:0.11461\n",
      "[41]\tvalidation_0-error:0.11682\tvalidation_1-error:0.11461\n",
      "[42]\tvalidation_0-error:0.11614\tvalidation_1-error:0.11376\n",
      "[43]\tvalidation_0-error:0.11585\tvalidation_1-error:0.11274\n",
      "[44]\tvalidation_0-error:0.11608\tvalidation_1-error:0.11359\n",
      "[45]\tvalidation_0-error:0.11557\tvalidation_1-error:0.11274\n",
      "[46]\tvalidation_0-error:0.11574\tvalidation_1-error:0.11308\n",
      "[47]\tvalidation_0-error:0.11529\tvalidation_1-error:0.11291\n",
      "[48]\tvalidation_0-error:0.11523\tvalidation_1-error:0.11240\n",
      "[49]\tvalidation_0-error:0.11500\tvalidation_1-error:0.11257\n",
      "[50]\tvalidation_0-error:0.11517\tvalidation_1-error:0.11240\n",
      "[51]\tvalidation_0-error:0.11449\tvalidation_1-error:0.11206\n",
      "[52]\tvalidation_0-error:0.11461\tvalidation_1-error:0.11240\n",
      "[53]\tvalidation_0-error:0.11404\tvalidation_1-error:0.11172\n",
      "[54]\tvalidation_0-error:0.11404\tvalidation_1-error:0.11172\n",
      "[55]\tvalidation_0-error:0.11393\tvalidation_1-error:0.11155\n",
      "[56]\tvalidation_0-error:0.11364\tvalidation_1-error:0.11138\n",
      "[57]\tvalidation_0-error:0.11393\tvalidation_1-error:0.11138\n",
      "[58]\tvalidation_0-error:0.11393\tvalidation_1-error:0.11172\n",
      "[59]\tvalidation_0-error:0.11415\tvalidation_1-error:0.11172\n",
      "[60]\tvalidation_0-error:0.11421\tvalidation_1-error:0.11189\n",
      "[61]\tvalidation_0-error:0.11415\tvalidation_1-error:0.11206\n",
      "[62]\tvalidation_0-error:0.11427\tvalidation_1-error:0.11138\n",
      "[63]\tvalidation_0-error:0.11427\tvalidation_1-error:0.11138\n",
      "[64]\tvalidation_0-error:0.11393\tvalidation_1-error:0.11172\n",
      "[65]\tvalidation_0-error:0.11296\tvalidation_1-error:0.11104\n",
      "[66]\tvalidation_0-error:0.11308\tvalidation_1-error:0.11087\n",
      "[67]\tvalidation_0-error:0.11257\tvalidation_1-error:0.11121\n",
      "[68]\tvalidation_0-error:0.11251\tvalidation_1-error:0.11121\n",
      "[69]\tvalidation_0-error:0.11228\tvalidation_1-error:0.11053\n",
      "[70]\tvalidation_0-error:0.11217\tvalidation_1-error:0.11002\n",
      "[71]\tvalidation_0-error:0.11177\tvalidation_1-error:0.10934\n",
      "[72]\tvalidation_0-error:0.11183\tvalidation_1-error:0.10934\n",
      "[73]\tvalidation_0-error:0.11172\tvalidation_1-error:0.10985\n",
      "[74]\tvalidation_0-error:0.11166\tvalidation_1-error:0.10917\n",
      "[75]\tvalidation_0-error:0.11183\tvalidation_1-error:0.10917\n",
      "[76]\tvalidation_0-error:0.11143\tvalidation_1-error:0.10900\n",
      "[77]\tvalidation_0-error:0.11166\tvalidation_1-error:0.10917\n",
      "[78]\tvalidation_0-error:0.11155\tvalidation_1-error:0.10900\n",
      "[79]\tvalidation_0-error:0.11155\tvalidation_1-error:0.10917\n",
      "[80]\tvalidation_0-error:0.11138\tvalidation_1-error:0.10934\n",
      "[81]\tvalidation_0-error:0.11132\tvalidation_1-error:0.10917\n",
      "[82]\tvalidation_0-error:0.11149\tvalidation_1-error:0.10951\n",
      "[83]\tvalidation_0-error:0.11138\tvalidation_1-error:0.10900\n",
      "[84]\tvalidation_0-error:0.11132\tvalidation_1-error:0.10917\n",
      "[85]\tvalidation_0-error:0.11126\tvalidation_1-error:0.10900\n",
      "[0]\tvalidation_0-error:0.14176\tvalidation_1-error:0.13790\n",
      "[1]\tvalidation_0-error:0.14176\tvalidation_1-error:0.13790\n",
      "[2]\tvalidation_0-error:0.14176\tvalidation_1-error:0.13790\n",
      "[3]\tvalidation_0-error:0.14176\tvalidation_1-error:0.13790\n",
      "[4]\tvalidation_0-error:0.14176\tvalidation_1-error:0.13790\n",
      "[5]\tvalidation_0-error:0.14176\tvalidation_1-error:0.13790\n",
      "[6]\tvalidation_0-error:0.14176\tvalidation_1-error:0.13790\n",
      "[7]\tvalidation_0-error:0.14176\tvalidation_1-error:0.13790\n",
      "[8]\tvalidation_0-error:0.14176\tvalidation_1-error:0.13790\n",
      "[9]\tvalidation_0-error:0.14176\tvalidation_1-error:0.13790\n",
      "[10]\tvalidation_0-error:0.14130\tvalidation_1-error:0.13705\n",
      "[11]\tvalidation_0-error:0.13898\tvalidation_1-error:0.13433\n",
      "[12]\tvalidation_0-error:0.13382\tvalidation_1-error:0.12702\n",
      "[13]\tvalidation_0-error:0.12855\tvalidation_1-error:0.12294\n",
      "[14]\tvalidation_0-error:0.12674\tvalidation_1-error:0.12192\n",
      "[15]\tvalidation_0-error:0.12458\tvalidation_1-error:0.12073\n",
      "[16]\tvalidation_0-error:0.12390\tvalidation_1-error:0.12073\n",
      "[17]\tvalidation_0-error:0.12396\tvalidation_1-error:0.12090\n",
      "[18]\tvalidation_0-error:0.12356\tvalidation_1-error:0.12005\n",
      "[19]\tvalidation_0-error:0.12328\tvalidation_1-error:0.11971\n",
      "[20]\tvalidation_0-error:0.12322\tvalidation_1-error:0.11920\n",
      "[21]\tvalidation_0-error:0.12316\tvalidation_1-error:0.11954\n",
      "[22]\tvalidation_0-error:0.12243\tvalidation_1-error:0.11903\n",
      "[23]\tvalidation_0-error:0.12248\tvalidation_1-error:0.11869\n",
      "[24]\tvalidation_0-error:0.12163\tvalidation_1-error:0.11835\n",
      "[25]\tvalidation_0-error:0.12067\tvalidation_1-error:0.11835\n",
      "[26]\tvalidation_0-error:0.11988\tvalidation_1-error:0.11784\n",
      "[27]\tvalidation_0-error:0.11965\tvalidation_1-error:0.11733\n",
      "[28]\tvalidation_0-error:0.11891\tvalidation_1-error:0.11716\n",
      "[29]\tvalidation_0-error:0.11829\tvalidation_1-error:0.11733\n",
      "[30]\tvalidation_0-error:0.11806\tvalidation_1-error:0.11750\n",
      "[31]\tvalidation_0-error:0.11778\tvalidation_1-error:0.11682\n",
      "[32]\tvalidation_0-error:0.11755\tvalidation_1-error:0.11682\n",
      "[33]\tvalidation_0-error:0.11670\tvalidation_1-error:0.11614\n",
      "[34]\tvalidation_0-error:0.11653\tvalidation_1-error:0.11631\n",
      "[35]\tvalidation_0-error:0.11631\tvalidation_1-error:0.11631\n",
      "[36]\tvalidation_0-error:0.11642\tvalidation_1-error:0.11597\n",
      "[37]\tvalidation_0-error:0.11648\tvalidation_1-error:0.11597\n",
      "[38]\tvalidation_0-error:0.11625\tvalidation_1-error:0.11614\n",
      "[39]\tvalidation_0-error:0.11625\tvalidation_1-error:0.11597\n",
      "[40]\tvalidation_0-error:0.11614\tvalidation_1-error:0.11665\n",
      "[41]\tvalidation_0-error:0.11602\tvalidation_1-error:0.11631\n",
      "[42]\tvalidation_0-error:0.11517\tvalidation_1-error:0.11631\n",
      "[43]\tvalidation_0-error:0.11478\tvalidation_1-error:0.11597\n",
      "[44]\tvalidation_0-error:0.11495\tvalidation_1-error:0.11580\n",
      "[45]\tvalidation_0-error:0.11466\tvalidation_1-error:0.11580\n",
      "[46]\tvalidation_0-error:0.11376\tvalidation_1-error:0.11393\n",
      "[47]\tvalidation_0-error:0.11347\tvalidation_1-error:0.11393\n",
      "[48]\tvalidation_0-error:0.11359\tvalidation_1-error:0.11427\n",
      "[49]\tvalidation_0-error:0.11381\tvalidation_1-error:0.11427\n",
      "[50]\tvalidation_0-error:0.11325\tvalidation_1-error:0.11410\n",
      "[51]\tvalidation_0-error:0.11291\tvalidation_1-error:0.11393\n",
      "[52]\tvalidation_0-error:0.11296\tvalidation_1-error:0.11410\n",
      "[53]\tvalidation_0-error:0.11285\tvalidation_1-error:0.11376\n",
      "[54]\tvalidation_0-error:0.11279\tvalidation_1-error:0.11410\n",
      "[55]\tvalidation_0-error:0.11296\tvalidation_1-error:0.11376\n",
      "[56]\tvalidation_0-error:0.11296\tvalidation_1-error:0.11308\n",
      "[57]\tvalidation_0-error:0.11313\tvalidation_1-error:0.11325\n",
      "[58]\tvalidation_0-error:0.11296\tvalidation_1-error:0.11257\n",
      "[59]\tvalidation_0-error:0.11296\tvalidation_1-error:0.11291\n",
      "[60]\tvalidation_0-error:0.11313\tvalidation_1-error:0.11257\n",
      "[61]\tvalidation_0-error:0.11285\tvalidation_1-error:0.11223\n",
      "[62]\tvalidation_0-error:0.11285\tvalidation_1-error:0.11223\n",
      "[63]\tvalidation_0-error:0.11268\tvalidation_1-error:0.11189\n",
      "[64]\tvalidation_0-error:0.11291\tvalidation_1-error:0.11172\n",
      "[65]\tvalidation_0-error:0.11155\tvalidation_1-error:0.11223\n",
      "[66]\tvalidation_0-error:0.11155\tvalidation_1-error:0.11189\n",
      "[67]\tvalidation_0-error:0.11160\tvalidation_1-error:0.11206\n",
      "[68]\tvalidation_0-error:0.11143\tvalidation_1-error:0.11189\n",
      "[69]\tvalidation_0-error:0.11149\tvalidation_1-error:0.11189\n",
      "[70]\tvalidation_0-error:0.11132\tvalidation_1-error:0.11172\n",
      "[71]\tvalidation_0-error:0.11109\tvalidation_1-error:0.11172\n",
      "[72]\tvalidation_0-error:0.11121\tvalidation_1-error:0.11189\n",
      "[73]\tvalidation_0-error:0.11104\tvalidation_1-error:0.11155\n",
      "[74]\tvalidation_0-error:0.11098\tvalidation_1-error:0.11138\n",
      "[75]\tvalidation_0-error:0.11087\tvalidation_1-error:0.11172\n",
      "[76]\tvalidation_0-error:0.11064\tvalidation_1-error:0.11121\n",
      "[77]\tvalidation_0-error:0.11053\tvalidation_1-error:0.11121\n",
      "[78]\tvalidation_0-error:0.11047\tvalidation_1-error:0.11121\n",
      "[79]\tvalidation_0-error:0.11036\tvalidation_1-error:0.11053\n",
      "[80]\tvalidation_0-error:0.11047\tvalidation_1-error:0.11036\n",
      "[81]\tvalidation_0-error:0.11053\tvalidation_1-error:0.11036\n",
      "[82]\tvalidation_0-error:0.11041\tvalidation_1-error:0.11019\n",
      "[83]\tvalidation_0-error:0.11024\tvalidation_1-error:0.11053\n",
      "[84]\tvalidation_0-error:0.11041\tvalidation_1-error:0.11002\n",
      "[85]\tvalidation_0-error:0.11036\tvalidation_1-error:0.11002\n",
      "[86]\tvalidation_0-error:0.10985\tvalidation_1-error:0.10985\n",
      "[87]\tvalidation_0-error:0.10973\tvalidation_1-error:0.10985\n",
      "[88]\tvalidation_0-error:0.10973\tvalidation_1-error:0.11036\n",
      "[89]\tvalidation_0-error:0.10962\tvalidation_1-error:0.10985\n",
      "[90]\tvalidation_0-error:0.10979\tvalidation_1-error:0.10934\n",
      "[91]\tvalidation_0-error:0.10928\tvalidation_1-error:0.10968\n",
      "[92]\tvalidation_0-error:0.10934\tvalidation_1-error:0.10968\n",
      "[93]\tvalidation_0-error:0.10928\tvalidation_1-error:0.10968\n",
      "[94]\tvalidation_0-error:0.10951\tvalidation_1-error:0.11002\n",
      "[95]\tvalidation_0-error:0.10911\tvalidation_1-error:0.11053\n",
      "[96]\tvalidation_0-error:0.10905\tvalidation_1-error:0.10985\n",
      "[97]\tvalidation_0-error:0.10883\tvalidation_1-error:0.11036\n",
      "[98]\tvalidation_0-error:0.10883\tvalidation_1-error:0.11053\n",
      "[99]\tvalidation_0-error:0.10894\tvalidation_1-error:0.11036\n",
      "[0]\tvalidation_0-error:0.14176\tvalidation_1-error:0.13790\n",
      "[1]\tvalidation_0-error:0.14176\tvalidation_1-error:0.13790\n",
      "[2]\tvalidation_0-error:0.13150\tvalidation_1-error:0.12804\n",
      "[3]\tvalidation_0-error:0.12583\tvalidation_1-error:0.12141\n",
      "[4]\tvalidation_0-error:0.12220\tvalidation_1-error:0.11716\n",
      "[5]\tvalidation_0-error:0.12192\tvalidation_1-error:0.11699\n",
      "[6]\tvalidation_0-error:0.12101\tvalidation_1-error:0.11801\n",
      "[7]\tvalidation_0-error:0.12044\tvalidation_1-error:0.11750\n",
      "[8]\tvalidation_0-error:0.11937\tvalidation_1-error:0.11597\n",
      "[9]\tvalidation_0-error:0.11795\tvalidation_1-error:0.11495\n",
      "[10]\tvalidation_0-error:0.11761\tvalidation_1-error:0.11427\n",
      "[11]\tvalidation_0-error:0.11648\tvalidation_1-error:0.11410\n",
      "[12]\tvalidation_0-error:0.11591\tvalidation_1-error:0.11427\n",
      "[13]\tvalidation_0-error:0.11568\tvalidation_1-error:0.11393\n",
      "[14]\tvalidation_0-error:0.11517\tvalidation_1-error:0.11342\n",
      "[15]\tvalidation_0-error:0.11500\tvalidation_1-error:0.11189\n",
      "[16]\tvalidation_0-error:0.11489\tvalidation_1-error:0.11274\n",
      "[17]\tvalidation_0-error:0.11478\tvalidation_1-error:0.11206\n",
      "[18]\tvalidation_0-error:0.11489\tvalidation_1-error:0.11189\n",
      "[19]\tvalidation_0-error:0.11472\tvalidation_1-error:0.11172\n",
      "[20]\tvalidation_0-error:0.11455\tvalidation_1-error:0.11240\n",
      "[21]\tvalidation_0-error:0.11427\tvalidation_1-error:0.11257\n",
      "[22]\tvalidation_0-error:0.11410\tvalidation_1-error:0.11240\n",
      "[23]\tvalidation_0-error:0.11404\tvalidation_1-error:0.11138\n",
      "[24]\tvalidation_0-error:0.11308\tvalidation_1-error:0.11138\n",
      "[25]\tvalidation_0-error:0.11342\tvalidation_1-error:0.11121\n",
      "[26]\tvalidation_0-error:0.11347\tvalidation_1-error:0.11121\n",
      "[27]\tvalidation_0-error:0.11359\tvalidation_1-error:0.11155\n",
      "[28]\tvalidation_0-error:0.11194\tvalidation_1-error:0.11104\n",
      "[29]\tvalidation_0-error:0.11189\tvalidation_1-error:0.11121\n",
      "[30]\tvalidation_0-error:0.11138\tvalidation_1-error:0.11155\n",
      "[31]\tvalidation_0-error:0.11138\tvalidation_1-error:0.11172\n",
      "[32]\tvalidation_0-error:0.11138\tvalidation_1-error:0.11087\n",
      "[33]\tvalidation_0-error:0.11138\tvalidation_1-error:0.11104\n",
      "[34]\tvalidation_0-error:0.11126\tvalidation_1-error:0.11070\n",
      "[35]\tvalidation_0-error:0.11138\tvalidation_1-error:0.11070\n",
      "[36]\tvalidation_0-error:0.11075\tvalidation_1-error:0.11138\n",
      "[37]\tvalidation_0-error:0.11053\tvalidation_1-error:0.11155\n",
      "[38]\tvalidation_0-error:0.11041\tvalidation_1-error:0.11155\n",
      "[39]\tvalidation_0-error:0.11058\tvalidation_1-error:0.11206\n",
      "[40]\tvalidation_0-error:0.11007\tvalidation_1-error:0.11138\n",
      "[41]\tvalidation_0-error:0.11013\tvalidation_1-error:0.11104\n",
      "[42]\tvalidation_0-error:0.10985\tvalidation_1-error:0.11070\n",
      "[43]\tvalidation_0-error:0.10962\tvalidation_1-error:0.11053\n",
      "[44]\tvalidation_0-error:0.10922\tvalidation_1-error:0.11053\n",
      "[45]\tvalidation_0-error:0.10877\tvalidation_1-error:0.11087\n",
      "[46]\tvalidation_0-error:0.10888\tvalidation_1-error:0.11087\n",
      "[47]\tvalidation_0-error:0.10877\tvalidation_1-error:0.11155\n",
      "[48]\tvalidation_0-error:0.10888\tvalidation_1-error:0.11104\n",
      "[49]\tvalidation_0-error:0.10860\tvalidation_1-error:0.11172\n",
      "[50]\tvalidation_0-error:0.10831\tvalidation_1-error:0.11206\n",
      "[51]\tvalidation_0-error:0.10877\tvalidation_1-error:0.11172\n",
      "[52]\tvalidation_0-error:0.10888\tvalidation_1-error:0.11189\n",
      "Ensemble Accuracy: 88.96%\n"
     ]
    }
   ],
   "source": [
    "import numpy as np\n",
    "import pandas as pd\n",
    "from sklearn.model_selection import train_test_split\n",
    "from sklearn.metrics import accuracy_score\n",
    "from xgboost import XGBClassifier\n",
    "\n",
    "\n",
    "# Define Hyperparameter Configurations with Early Stopping\n",
    "hyperparameter_configs = [\n",
    "    {'learning_rate': 0.1, 'max_depth': 3, 'n_estimators': 1000, 'early_stopping_rounds': 10},\n",
    "    {'learning_rate': 0.05, 'max_depth': 5, 'n_estimators': 1000, 'early_stopping_rounds': 10},\n",
    "    {'learning_rate': 0.2, 'max_depth': 4, 'n_estimators': 1000, 'early_stopping_rounds': 10},\n",
    "]\n",
    "\n",
    "xgb_models = []\n",
    "\n",
    "for config in hyperparameter_configs:\n",
    "    model = XGBClassifier(**config, subsample=0.8, colsample_bytree=0.8, reg_alpha=1e-2, reg_lambda=1e-2, eval_metric=\"error\", random_state=42)\n",
    "    model.fit(X_train, y_train, eval_set=[(X_train, y_train), (X_test, y_test)], verbose=True)\n",
    "    xgb_models.append(model)\n",
    "\n",
    "# Combine Predictions using Averaging\n",
    "def ensemble_predict(models, X):\n",
    "    predictions = np.column_stack([model.predict_proba(X)[:, 1] for model in models])\n",
    "    return np.mean(predictions, axis=1)\n",
    "\n",
    "# Example usage for the test set\n",
    "ensemble_predictions = ensemble_predict(xgb_models, X_test)\n",
    "\n",
    "# Evaluate the Ensemble\n",
    "ensemble_accuracy = accuracy_score(y_test, (ensemble_predictions > 0.5).astype(int))\n",
    "print(f'Ensemble Accuracy: {ensemble_accuracy * 100:.2f}%')\n"
   ]
  },
  {
   "cell_type": "code",
   "execution_count": 95,
   "metadata": {},
   "outputs": [
    {
     "name": "stdout",
     "output_type": "stream",
     "text": [
      "[0]\tvalidation_0-error:0.14176\tvalidation_1-error:0.13790\n",
      "[1]\tvalidation_0-error:0.14176\tvalidation_1-error:0.13790\n",
      "[2]\tvalidation_0-error:0.14176\tvalidation_1-error:0.13790\n",
      "[3]\tvalidation_0-error:0.14176\tvalidation_1-error:0.13790\n",
      "[4]\tvalidation_0-error:0.14176\tvalidation_1-error:0.13790\n",
      "[5]\tvalidation_0-error:0.14176\tvalidation_1-error:0.13790\n",
      "[6]\tvalidation_0-error:0.13858\tvalidation_1-error:0.13382\n",
      "[7]\tvalidation_0-error:0.13660\tvalidation_1-error:0.13110\n",
      "[8]\tvalidation_0-error:0.12985\tvalidation_1-error:0.12464\n",
      "[9]\tvalidation_0-error:0.12538\tvalidation_1-error:0.12039\n",
      "[10]\tvalidation_0-error:0.12504\tvalidation_1-error:0.11954\n",
      "[11]\tvalidation_0-error:0.12487\tvalidation_1-error:0.11937\n",
      "[12]\tvalidation_0-error:0.12458\tvalidation_1-error:0.11937\n",
      "[13]\tvalidation_0-error:0.12322\tvalidation_1-error:0.11903\n",
      "[14]\tvalidation_0-error:0.12316\tvalidation_1-error:0.11886\n",
      "[15]\tvalidation_0-error:0.12118\tvalidation_1-error:0.11835\n",
      "[16]\tvalidation_0-error:0.12118\tvalidation_1-error:0.11818\n",
      "[17]\tvalidation_0-error:0.12112\tvalidation_1-error:0.11818\n",
      "[18]\tvalidation_0-error:0.12101\tvalidation_1-error:0.11835\n",
      "[19]\tvalidation_0-error:0.12050\tvalidation_1-error:0.11818\n",
      "[20]\tvalidation_0-error:0.12050\tvalidation_1-error:0.11767\n",
      "[21]\tvalidation_0-error:0.12050\tvalidation_1-error:0.11767\n",
      "[22]\tvalidation_0-error:0.12095\tvalidation_1-error:0.11682\n",
      "[23]\tvalidation_0-error:0.12061\tvalidation_1-error:0.11699\n",
      "[24]\tvalidation_0-error:0.12044\tvalidation_1-error:0.11682\n",
      "[25]\tvalidation_0-error:0.12044\tvalidation_1-error:0.11699\n",
      "[26]\tvalidation_0-error:0.12039\tvalidation_1-error:0.11699\n",
      "[27]\tvalidation_0-error:0.12039\tvalidation_1-error:0.11682\n",
      "[28]\tvalidation_0-error:0.11982\tvalidation_1-error:0.11614\n",
      "[29]\tvalidation_0-error:0.11948\tvalidation_1-error:0.11563\n",
      "[30]\tvalidation_0-error:0.11897\tvalidation_1-error:0.11512\n",
      "[31]\tvalidation_0-error:0.11886\tvalidation_1-error:0.11563\n",
      "[32]\tvalidation_0-error:0.11829\tvalidation_1-error:0.11597\n",
      "[33]\tvalidation_0-error:0.11835\tvalidation_1-error:0.11614\n",
      "[34]\tvalidation_0-error:0.11840\tvalidation_1-error:0.11597\n",
      "[35]\tvalidation_0-error:0.11852\tvalidation_1-error:0.11597\n",
      "[36]\tvalidation_0-error:0.11812\tvalidation_1-error:0.11563\n",
      "[37]\tvalidation_0-error:0.11755\tvalidation_1-error:0.11546\n",
      "[38]\tvalidation_0-error:0.11744\tvalidation_1-error:0.11512\n",
      "[39]\tvalidation_0-error:0.11733\tvalidation_1-error:0.11478\n",
      "[40]\tvalidation_0-error:0.11682\tvalidation_1-error:0.11461\n",
      "[41]\tvalidation_0-error:0.11682\tvalidation_1-error:0.11461\n",
      "[42]\tvalidation_0-error:0.11614\tvalidation_1-error:0.11376\n",
      "[43]\tvalidation_0-error:0.11585\tvalidation_1-error:0.11274\n",
      "[44]\tvalidation_0-error:0.11608\tvalidation_1-error:0.11359\n",
      "[45]\tvalidation_0-error:0.11557\tvalidation_1-error:0.11274\n",
      "[46]\tvalidation_0-error:0.11574\tvalidation_1-error:0.11308\n",
      "[47]\tvalidation_0-error:0.11529\tvalidation_1-error:0.11291\n",
      "[48]\tvalidation_0-error:0.11523\tvalidation_1-error:0.11240\n",
      "[49]\tvalidation_0-error:0.11500\tvalidation_1-error:0.11257\n",
      "[50]\tvalidation_0-error:0.11517\tvalidation_1-error:0.11240\n",
      "[51]\tvalidation_0-error:0.11449\tvalidation_1-error:0.11206\n",
      "[52]\tvalidation_0-error:0.11461\tvalidation_1-error:0.11240\n",
      "[53]\tvalidation_0-error:0.11404\tvalidation_1-error:0.11172\n",
      "[54]\tvalidation_0-error:0.11404\tvalidation_1-error:0.11172\n",
      "[55]\tvalidation_0-error:0.11393\tvalidation_1-error:0.11155\n",
      "[56]\tvalidation_0-error:0.11364\tvalidation_1-error:0.11138\n",
      "[57]\tvalidation_0-error:0.11393\tvalidation_1-error:0.11138\n",
      "[58]\tvalidation_0-error:0.11393\tvalidation_1-error:0.11172\n",
      "[59]\tvalidation_0-error:0.11415\tvalidation_1-error:0.11172\n",
      "[60]\tvalidation_0-error:0.11421\tvalidation_1-error:0.11189\n",
      "[61]\tvalidation_0-error:0.11415\tvalidation_1-error:0.11206\n",
      "[62]\tvalidation_0-error:0.11427\tvalidation_1-error:0.11138\n",
      "[63]\tvalidation_0-error:0.11427\tvalidation_1-error:0.11138\n",
      "[64]\tvalidation_0-error:0.11393\tvalidation_1-error:0.11172\n",
      "[65]\tvalidation_0-error:0.11296\tvalidation_1-error:0.11104\n",
      "[66]\tvalidation_0-error:0.11308\tvalidation_1-error:0.11087\n",
      "[67]\tvalidation_0-error:0.11257\tvalidation_1-error:0.11121\n",
      "[68]\tvalidation_0-error:0.11251\tvalidation_1-error:0.11121\n",
      "[69]\tvalidation_0-error:0.11228\tvalidation_1-error:0.11053\n",
      "[70]\tvalidation_0-error:0.11217\tvalidation_1-error:0.11002\n",
      "[71]\tvalidation_0-error:0.11177\tvalidation_1-error:0.10934\n",
      "[72]\tvalidation_0-error:0.11183\tvalidation_1-error:0.10934\n",
      "[73]\tvalidation_0-error:0.11172\tvalidation_1-error:0.10985\n",
      "[74]\tvalidation_0-error:0.11166\tvalidation_1-error:0.10917\n",
      "[75]\tvalidation_0-error:0.11183\tvalidation_1-error:0.10917\n",
      "[76]\tvalidation_0-error:0.11143\tvalidation_1-error:0.10900\n",
      "[77]\tvalidation_0-error:0.11166\tvalidation_1-error:0.10917\n",
      "[78]\tvalidation_0-error:0.11155\tvalidation_1-error:0.10900\n",
      "[79]\tvalidation_0-error:0.11155\tvalidation_1-error:0.10917\n",
      "[80]\tvalidation_0-error:0.11138\tvalidation_1-error:0.10934\n",
      "[81]\tvalidation_0-error:0.11132\tvalidation_1-error:0.10917\n",
      "[82]\tvalidation_0-error:0.11149\tvalidation_1-error:0.10951\n",
      "[83]\tvalidation_0-error:0.11138\tvalidation_1-error:0.10900\n",
      "[84]\tvalidation_0-error:0.11132\tvalidation_1-error:0.10917\n",
      "[85]\tvalidation_0-error:0.11126\tvalidation_1-error:0.10900\n",
      "[86]\tvalidation_0-error:0.11132\tvalidation_1-error:0.10900\n",
      "Accuracy: 89.10%\n"
     ]
    }
   ],
   "source": [
    "# Early Stopping\n",
    "from xgboost import XGBClassifier\n",
    "from sklearn.model_selection import train_test_split\n",
    "from sklearn.metrics import accuracy_score\n",
    "\n",
    "# Initialize the XGBoost classifier with early_stopping_rounds\n",
    "xgb_model = XGBClassifier(\n",
    "    learning_rate=0.1,\n",
    "    n_estimators=1000,\n",
    "    max_depth=3,\n",
    "    subsample=0.8,\n",
    "    colsample_bytree=0.8,\n",
    "    reg_alpha=1e-2,\n",
    "    reg_lambda=1e-2,\n",
    "    eval_metric=\"error\",\n",
    "    early_stopping_rounds=10,  # Set early_stopping_rounds during initialization\n",
    "    random_state=42\n",
    ")\n",
    "\n",
    "# Train the model with early stopping\n",
    "evals = [(X_train, y_train), (X_test, y_test)]\n",
    "xgb_model.fit(X_train, y_train, eval_set=evals, verbose=True)\n",
    "\n",
    "# Make predictions on the test set\n",
    "y_pred = xgb_model.predict(X_test)\n",
    "\n",
    "# Evaluate the model's performance\n",
    "accuracy = accuracy_score(y_test, y_pred)\n",
    "print(f'Accuracy: {accuracy * 100:.2f}%')\n"
   ]
  },
  {
   "cell_type": "code",
   "execution_count": 96,
   "metadata": {},
   "outputs": [
    {
     "name": "stdout",
     "output_type": "stream",
     "text": [
      "Model saved as xgb_model_saved.model\n"
     ]
    },
    {
     "name": "stderr",
     "output_type": "stream",
     "text": [
      "c:\\Users\\hp\\anaconda3\\envs\\myenv\\lib\\site-packages\\xgboost\\core.py:160: UserWarning: [16:21:05] WARNING: C:\\buildkite-agent\\builds\\buildkite-windows-cpu-autoscaling-group-i-0b3782d1791676daf-1\\xgboost\\xgboost-ci-windows\\src\\c_api\\c_api.cc:1240: Saving into deprecated binary model format, please consider using `json` or `ubj`. Model format will default to JSON in XGBoost 2.2 if not specified.\n",
      "  warnings.warn(smsg, UserWarning)\n"
     ]
    }
   ],
   "source": [
    "# Save the trained model to a file\n",
    "model_filename = 'xgb_model_saved.model'\n",
    "xgb_model.save_model(model_filename)\n",
    "print(f'Model saved as {model_filename}')"
   ]
  },
  {
   "cell_type": "markdown",
   "metadata": {},
   "source": [
    "## Decision Trees\n"
   ]
  },
  {
   "cell_type": "code",
   "execution_count": 97,
   "metadata": {},
   "outputs": [
    {
     "name": "stdout",
     "output_type": "stream",
     "text": [
      "Accuracy: 83.46%\n"
     ]
    }
   ],
   "source": [
    "from sklearn.tree import DecisionTreeClassifier\n",
    "# Initialize Decision Tree model\n",
    "decision_tree_model = DecisionTreeClassifier(random_state=42)\n",
    "\n",
    "# Fit the model on the training data\n",
    "decision_tree_model.fit(X_train, y_train)\n",
    "\n",
    "# Make predictions on the test set\n",
    "y_pred = decision_tree_model.predict(X_test)\n",
    "\n",
    "# Evaluate the model's performance\n",
    "accuracy = accuracy_score(y_test, y_pred)\n",
    "print(f'Accuracy: {accuracy * 100:.2f}%')"
   ]
  },
  {
   "cell_type": "markdown",
   "metadata": {},
   "source": [
    "## Random forest\n"
   ]
  },
  {
   "cell_type": "code",
   "execution_count": 98,
   "metadata": {},
   "outputs": [
    {
     "name": "stdout",
     "output_type": "stream",
     "text": [
      "Random Forest Accuracy: 85.58%\n"
     ]
    }
   ],
   "source": [
    "from sklearn.ensemble import RandomForestClassifier\n",
    "# Initialize Random Forest model\n",
    "random_forest_model = RandomForestClassifier(random_state=42)\n",
    "\n",
    "# Fit the model on the training data\n",
    "random_forest_model.fit(X_train, y_train)\n",
    "\n",
    "# Make predictions on the test set\n",
    "y_pred_random_forest = random_forest_model.predict(X_test)\n",
    "\n",
    "# Evaluate the model's performance\n",
    "accuracy_random_forest = accuracy_score(y_test, y_pred_random_forest)\n",
    "print(f'Random Forest Accuracy: {accuracy_random_forest * 100:.2f}%')"
   ]
  },
  {
   "cell_type": "markdown",
   "metadata": {},
   "source": [
    "## Suppor Vector Machine"
   ]
  },
  {
   "cell_type": "code",
   "execution_count": 99,
   "metadata": {},
   "outputs": [
    {
     "name": "stdout",
     "output_type": "stream",
     "text": [
      "SVM Accuracy: 88.74%\n"
     ]
    }
   ],
   "source": [
    "from sklearn.svm import SVC\n",
    "# Initialize SVM model\n",
    "svm_model = SVC(random_state=42)\n",
    "\n",
    "# Fit the model on the training data\n",
    "svm_model.fit(X_train, y_train)\n",
    "\n",
    "# Make predictions on the test set\n",
    "y_pred_svm = svm_model.predict(X_test)\n",
    "\n",
    "# Evaluate the model's performance\n",
    "accuracy_svm = accuracy_score(y_test, y_pred_svm)\n",
    "print(f'SVM Accuracy: {accuracy_svm * 100:.2f}%')\n"
   ]
  },
  {
   "cell_type": "markdown",
   "metadata": {},
   "source": [
    "## KNeighborsClassifier"
   ]
  },
  {
   "cell_type": "code",
   "execution_count": 100,
   "metadata": {},
   "outputs": [
    {
     "name": "stdout",
     "output_type": "stream",
     "text": [
      "KNN Accuracy: 87.67%\n"
     ]
    }
   ],
   "source": [
    "from sklearn.neighbors import KNeighborsClassifier\n",
    "\n",
    "# Initialize KNN model##\n",
    "knn_model = KNeighborsClassifier()\n",
    "\n",
    "# Fit the model on the training data\n",
    "knn_model.fit(X_train, y_train)\n",
    "\n",
    "# Make predictions on the test set\n",
    "y_pred_knn = knn_model.predict(X_test)\n",
    "\n",
    "# Evaluate the model's performance\n",
    "accuracy_knn = accuracy_score(y_test, y_pred_knn)\n",
    "print(f'KNN Accuracy: {accuracy_knn * 100:.2f}%')\n"
   ]
  },
  {
   "cell_type": "markdown",
   "metadata": {},
   "source": [
    "##  MLPClassifier"
   ]
  },
  {
   "cell_type": "code",
   "execution_count": 101,
   "metadata": {},
   "outputs": [
    {
     "name": "stdout",
     "output_type": "stream",
     "text": [
      "MLP Accuracy: 87.37%\n"
     ]
    }
   ],
   "source": [
    "from sklearn.neural_network import MLPClassifier\n",
    "\n",
    "# Initialize MLP (Neural Network) model\n",
    "mlp_model = MLPClassifier(learning_rate_init=0.01,random_state=42)\n",
    "\n",
    "# Fit the model on the training data\n",
    "mlp_model.fit(X_train, y_train)\n",
    "\n",
    "# Make predictions on the test set\n",
    "y_pred_mlp = mlp_model.predict(X_test)\n",
    "\n",
    "# Evaluate the model's performance\n",
    "accuracy_mlp = accuracy_score(y_test, y_pred_mlp)\n",
    "print(f'MLP Accuracy: {accuracy_mlp * 100:.2f}%')\n"
   ]
  },
  {
   "cell_type": "markdown",
   "metadata": {},
   "source": []
  },
  {
   "cell_type": "markdown",
   "metadata": {},
   "source": [
    "## Naive Bayes model"
   ]
  },
  {
   "cell_type": "code",
   "execution_count": 102,
   "metadata": {},
   "outputs": [
    {
     "name": "stdout",
     "output_type": "stream",
     "text": [
      "Naive Bayes Accuracy: 86.48%\n"
     ]
    }
   ],
   "source": [
    "from sklearn.naive_bayes import GaussianNB\n",
    "\n",
    "\n",
    "# Initialize Naive Bayes model\n",
    "naive_bayes_model = GaussianNB()\n",
    "\n",
    "# Fit the model on the training data\n",
    "naive_bayes_model.fit(X_train, y_train)\n",
    "\n",
    "# Make predictions on the test set\n",
    "y_pred_naive_bayes = naive_bayes_model.predict(X_test)\n",
    "\n",
    "# Evaluate the model's performance\n",
    "accuracy_naive_bayes = accuracy_score(y_test, y_pred_naive_bayes)\n",
    "print(f'Naive Bayes Accuracy: {accuracy_naive_bayes * 100:.2f}%')\n"
   ]
  },
  {
   "cell_type": "code",
   "execution_count": 103,
   "metadata": {},
   "outputs": [],
   "source": [
    "boolean_columns = X_train.select_dtypes(include='bool').columns\n",
    "\n",
    "X_train[boolean_columns] = X_train[boolean_columns].astype(int)\n",
    "X_test[boolean_columns] = X_test[boolean_columns].astype(int)\n"
   ]
  },
  {
   "cell_type": "code",
   "execution_count": 104,
   "metadata": {},
   "outputs": [
    {
     "name": "stdout",
     "output_type": "stream",
     "text": [
      "WARNING:tensorflow:From c:\\Users\\hp\\anaconda3\\envs\\myenv\\lib\\site-packages\\keras\\src\\losses.py:2976: The name tf.losses.sparse_softmax_cross_entropy is deprecated. Please use tf.compat.v1.losses.sparse_softmax_cross_entropy instead.\n",
      "\n",
      "WARNING:tensorflow:From c:\\Users\\hp\\anaconda3\\envs\\myenv\\lib\\site-packages\\keras\\src\\backend.py:873: The name tf.get_default_graph is deprecated. Please use tf.compat.v1.get_default_graph instead.\n",
      "\n",
      "WARNING:tensorflow:From C:\\Users\\hp\\AppData\\Local\\Temp\\ipykernel_15108\\1884336979.py:21: The name tf.train.AdamOptimizer is deprecated. Please use tf.compat.v1.train.AdamOptimizer instead.\n",
      "\n",
      "Model: \"sequential\"\n",
      "_________________________________________________________________\n",
      " Layer (type)                Output Shape              Param #   \n",
      "=================================================================\n",
      " dense (Dense)               (None, 64)                1856      \n",
      "                                                                 \n",
      " dense_1 (Dense)             (None, 32)                2080      \n",
      "                                                                 \n",
      " dense_2 (Dense)             (None, 1)                 33        \n",
      "                                                                 \n",
      "=================================================================\n",
      "Total params: 3969 (15.50 KB)\n",
      "Trainable params: 3969 (15.50 KB)\n",
      "Non-trainable params: 0 (0.00 Byte)\n",
      "_________________________________________________________________\n",
      "Epoch 1/10\n",
      "WARNING:tensorflow:From c:\\Users\\hp\\anaconda3\\envs\\myenv\\lib\\site-packages\\keras\\src\\utils\\tf_utils.py:492: The name tf.ragged.RaggedTensorValue is deprecated. Please use tf.compat.v1.ragged.RaggedTensorValue instead.\n",
      "\n",
      "WARNING:tensorflow:From c:\\Users\\hp\\anaconda3\\envs\\myenv\\lib\\site-packages\\keras\\src\\engine\\base_layer_utils.py:384: The name tf.executing_eagerly_outside_functions is deprecated. Please use tf.compat.v1.executing_eagerly_outside_functions instead.\n",
      "\n",
      "552/552 [==============================] - 16s 14ms/step - loss: 0.3384 - accuracy: 0.8694 - val_loss: 0.2970 - val_accuracy: 0.8827\n",
      "Epoch 2/10\n",
      "552/552 [==============================] - 6s 11ms/step - loss: 0.3001 - accuracy: 0.8839 - val_loss: 0.2903 - val_accuracy: 0.8866\n",
      "Epoch 3/10\n",
      "552/552 [==============================] - 6s 11ms/step - loss: 0.2948 - accuracy: 0.8865 - val_loss: 0.2889 - val_accuracy: 0.8876\n",
      "Epoch 4/10\n",
      "552/552 [==============================] - 7s 13ms/step - loss: 0.2916 - accuracy: 0.8865 - val_loss: 0.2883 - val_accuracy: 0.8862\n",
      "Epoch 5/10\n",
      "552/552 [==============================] - 6s 11ms/step - loss: 0.2897 - accuracy: 0.8875 - val_loss: 0.2866 - val_accuracy: 0.8883\n",
      "Epoch 6/10\n",
      "552/552 [==============================] - 6s 11ms/step - loss: 0.2880 - accuracy: 0.8886 - val_loss: 0.2869 - val_accuracy: 0.8859\n",
      "Epoch 7/10\n",
      "552/552 [==============================] - 6s 12ms/step - loss: 0.2876 - accuracy: 0.8878 - val_loss: 0.2855 - val_accuracy: 0.8886\n",
      "Epoch 8/10\n",
      "552/552 [==============================] - 6s 11ms/step - loss: 0.2856 - accuracy: 0.8890 - val_loss: 0.2950 - val_accuracy: 0.8823\n",
      "Epoch 9/10\n",
      "552/552 [==============================] - 6s 11ms/step - loss: 0.2851 - accuracy: 0.8894 - val_loss: 0.2879 - val_accuracy: 0.8891\n",
      "Epoch 10/10\n",
      "552/552 [==============================] - 6s 11ms/step - loss: 0.2841 - accuracy: 0.8897 - val_loss: 0.2855 - val_accuracy: 0.8898\n",
      "184/184 [==============================] - 2s 9ms/step - loss: 0.2855 - accuracy: 0.8898\n",
      "Test Accuracy: 88.98%\n"
     ]
    }
   ],
   "source": [
    "import tensorflow as tf\n",
    "from tensorflow.keras import layers, models\n",
    "\n",
    "# Initialize a Sequential model\n",
    "model = models.Sequential()\n",
    "\n",
    "# Add an input layer with the actual number of features\n",
    "your_input_shape = 28\n",
    "model.add(layers.InputLayer(input_shape=(your_input_shape,)))\n",
    "\n",
    "# Add a dense hidden layer with ReLU activation\n",
    "model.add(layers.Dense(units=64, activation='relu'))\n",
    "\n",
    "# Add another dense hidden layer with ReLU activation\n",
    "model.add(layers.Dense(units=32, activation='relu'))\n",
    "\n",
    "# Add the output layer with sigmoid activation for binary classification\n",
    "model.add(layers.Dense(units=1, activation='sigmoid'))\n",
    "\n",
    "# Compile the model with the updated optimizer\n",
    "model.compile(optimizer=tf.compat.v1.train.AdamOptimizer(),\n",
    "              loss='binary_crossentropy',\n",
    "              metrics=['accuracy'])\n",
    "\n",
    "# Display the model summary\n",
    "model.summary()\n",
    "\n",
    "# Train the model\n",
    "model.fit(X_train, y_train, epochs=10, batch_size=32, validation_data=(X_test, y_test))\n",
    "\n",
    "# Assuming you have already trained your model, you can now evaluate it on the test set\n",
    "\n",
    "# Evaluate the model on the test set\n",
    "test_loss, test_accuracy = model.evaluate(X_test, y_test)\n",
    "\n",
    "# Print the test accuracy\n",
    "print(f'Test Accuracy: {test_accuracy * 100:.2f}%')\n",
    "\n"
   ]
  },
  {
   "cell_type": "code",
   "execution_count": 105,
   "metadata": {},
   "outputs": [
    {
     "name": "stdout",
     "output_type": "stream",
     "text": [
      "Epoch 1/50\n",
      "552/552 [==============================] - 7s 12ms/step - loss: 0.2819 - accuracy: 0.8898 - val_loss: 0.2856 - val_accuracy: 0.8885\n",
      "Epoch 2/50\n",
      "552/552 [==============================] - 6s 11ms/step - loss: 0.2823 - accuracy: 0.8916 - val_loss: 0.2861 - val_accuracy: 0.8881\n",
      "Epoch 3/50\n",
      "552/552 [==============================] - 6s 12ms/step - loss: 0.2804 - accuracy: 0.8903 - val_loss: 0.2870 - val_accuracy: 0.8874\n",
      "Epoch 4/50\n",
      "552/552 [==============================] - 6s 11ms/step - loss: 0.2795 - accuracy: 0.8895 - val_loss: 0.2861 - val_accuracy: 0.8876\n",
      "184/184 [==============================] - 1s 7ms/step - loss: 0.2856 - accuracy: 0.8885\n",
      "Test Accuracy: 88.85%\n"
     ]
    }
   ],
   "source": [
    "from tensorflow.keras.callbacks import EarlyStopping\n",
    "\n",
    "early_stopping = EarlyStopping(monitor='val_loss', patience=3, restore_best_weights=True)\n",
    "\n",
    "model.fit(X_train, y_train, epochs=50, batch_size=32, validation_data=(X_test, y_test), callbacks=[early_stopping])\n",
    "# Evaluate the model on the test set\n",
    "test_loss, test_accuracy = model.evaluate(X_test, y_test)\n",
    "\n",
    "# Print the test accuracy\n",
    "print(f'Test Accuracy: {test_accuracy * 100:.2f}%')\n",
    "\n"
   ]
  },
  {
   "cell_type": "code",
   "execution_count": 106,
   "metadata": {},
   "outputs": [
    {
     "name": "stdout",
     "output_type": "stream",
     "text": [
      "Best Hyperparameters (Randomized Search): {'C': 0.4731474644815004, 'kernel': 'poly'}\n",
      "Tuned SVM Accuracy (Randomized Search): 88.69%\n"
     ]
    }
   ],
   "source": [
    "from sklearn.model_selection import RandomizedSearchCV\n",
    "from scipy.stats import uniform, loguniform\n",
    "\n",
    "# Define the parameter distribution\n",
    "param_dist = {'C': loguniform(1e-3, 1e3), 'kernel': ['linear', 'rbf', 'poly', 'sigmoid']}\n",
    "\n",
    "# Initialize SVM model\n",
    "svm_model_tuned_random = SVC(random_state=42)\n",
    "\n",
    "# Use RandomizedSearchCV to find the best hyperparameters\n",
    "random_search = RandomizedSearchCV(svm_model_tuned_random, param_dist, n_iter=10, cv=5, random_state=42)\n",
    "random_search.fit(X_train, y_train)\n",
    "\n",
    "# Get the best parameters\n",
    "best_params_random = random_search.best_params_\n",
    "\n",
    "# Print the best parameters\n",
    "print(f'Best Hyperparameters (Randomized Search): {best_params_random}')\n",
    "\n",
    "# Fit the model with the best parameters on the training data\n",
    "svm_model_tuned_random = random_search.best_estimator_\n",
    "svm_model_tuned_random.fit(X_train, y_train)\n",
    "\n",
    "# Make predictions on the test set\n",
    "y_pred_svm_tuned_random = svm_model_tuned_random.predict(X_test)\n",
    "\n",
    "# Evaluate the tuned model's performance\n",
    "accuracy_svm_tuned_random = accuracy_score(y_test, y_pred_svm_tuned_random)\n",
    "print(f'Tuned SVM Accuracy (Randomized Search): {accuracy_svm_tuned_random * 100:.2f}%')\n"
   ]
  },
  {
   "cell_type": "code",
   "execution_count": 107,
   "metadata": {},
   "outputs": [
    {
     "name": "stdout",
     "output_type": "stream",
     "text": [
      "Cross-Validation Scores for SVM: [0.88381978 0.88296968 0.88637008 0.87670068 0.88888889]\n",
      "Mean Accuracy: 88.37%\n"
     ]
    }
   ],
   "source": [
    "from sklearn.model_selection import cross_val_score\n",
    "from sklearn.svm import SVC\n",
    "\n",
    "# Use the tuned SVM model\n",
    "svm_model_cv = SVC(C=0.4731474644815004, kernel='poly', random_state=42)\n",
    "\n",
    "# Perform cross-validation\n",
    "cv_scores_svm = cross_val_score(svm_model_cv, X_train, y_train, cv=5, scoring='accuracy')\n",
    "\n",
    "# Print the cross-validation scores\n",
    "print(\"Cross-Validation Scores for SVM:\", cv_scores_svm)\n",
    "print(f\"Mean Accuracy: {cv_scores_svm.mean() * 100:.2f}%\")\n"
   ]
  },
  {
   "cell_type": "code",
   "execution_count": null,
   "metadata": {},
   "outputs": [],
   "source": []
  }
 ],
 "metadata": {
  "kernelspec": {
   "display_name": "myenv",
   "language": "python",
   "name": "python3"
  },
  "language_info": {
   "codemirror_mode": {
    "name": "ipython",
    "version": 3
   },
   "file_extension": ".py",
   "mimetype": "text/x-python",
   "name": "python",
   "nbconvert_exporter": "python",
   "pygments_lexer": "ipython3",
   "version": "3.9.16"
  }
 },
 "nbformat": 4,
 "nbformat_minor": 2
}
